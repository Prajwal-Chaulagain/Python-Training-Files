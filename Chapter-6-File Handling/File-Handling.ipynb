{
 "cells": [
  {
   "cell_type": "markdown",
   "metadata": {},
   "source": [
    "# File Handling in Python #"
   ]
  },
  {
   "cell_type": "markdown",
   "metadata": {},
   "source": [
    "File handling is a crucial aspect of Python programming that allows you to work with files on your system. Python provides built-in functions and methods to perform various file operations:"
   ]
  },
  {
   "cell_type": "markdown",
   "metadata": {},
   "source": [
    "# Basic File Operations:"
   ]
  },
  {
   "cell_type": "markdown",
   "metadata": {},
   "source": [
    "1. Opening Files: Use open() function with appropriate mode.\n",
    "2. Reading Files: Read entire file or line by line.\n",
    "3. Writing Files: Create new files or overwrite existing ones.\n",
    "4. Appending Files: Add content to existing files."
   ]
  },
  {
   "cell_type": "markdown",
   "metadata": {},
   "source": [
    "# Common File Modes #\n",
    "* 'r' - Read mode (default)\n",
    "* 'w' - Write mode (overwrites existing content)\n",
    "* 'a' - Append mode (adds to existing content)\n",
    "* 'r+' - Read and write mode\n",
    "* 'b' - Binary mode\n",
    "\n",
    "# Best Practices #\n",
    "* Always use with statement to automatically close files\n",
    "* Handle exceptions when working with files\n",
    "* Use appropriate encoding when dealing with text files\n",
    "* Close files explicitly if not using with statement"
   ]
  },
  {
   "cell_type": "code",
   "execution_count": 2,
   "metadata": {},
   "outputs": [
    {
     "name": "stdout",
     "output_type": "stream",
     "text": [
      "Reading entire file:\n",
      " Introduction:\n",
      "My name is Prajwal Chaulagain. I am currently living at Thasikhel, lalitpur. \n",
      "I am currently a student of Bachelor of Computer Science and  Information Technology at Tribhuvan University, Nepal. \n",
      "I am second year student. I am interested in programming and web development. I am also interested in learning new technologies and languages.\n",
      "Line: Introduction:\n",
      "Line: My name is Prajwal Chaulagain. I am currently living at Thasikhel, lalitpur.\n",
      "Line: I am currently a student of Bachelor of Computer Science and  Information Technology at Tribhuvan University, Nepal.\n",
      "Line: I am second year student. I am interested in programming and web development. I am also interested in learning new technologies and languages.\n"
     ]
    }
   ],
   "source": [
    "with open ('example_files/example.txt', 'r') as file:\n",
    "    content = file.read()\n",
    "    print(\"Reading entire file:\\n\", content)\n",
    "\n",
    "# writing to a file\n",
    "with open ('example_files/new_example.txt', 'w') as file:\n",
    "    file.write(\"Hello, this is a new line\\n\")\n",
    "    file.write(\"This is another line\")\n",
    "\n",
    "# Appending to a file\n",
    "with open ('example_files/example2.txt', 'a') as file:\n",
    "    file.write(\"\\nAppending this line\")\n",
    "\n",
    "# Reading file line by line\n",
    "with open ('example_files/example.txt', 'r') as file:\n",
    "    for line in file:\n",
    "        print(\"Line:\", line.strip())"
   ]
  },
  {
   "cell_type": "markdown",
   "metadata": {},
   "source": [
    "# Creating dummy json file"
   ]
  },
  {
   "cell_type": "code",
   "execution_count": 3,
   "metadata": {},
   "outputs": [],
   "source": [
    "import json\n",
    "# Create student data with 2 elements\n",
    "students=[\n",
    "    {\n",
    "        \"student_id\": \"s001\",\n",
    "        \"name\": \"Prajwal Chaulagain\",\n",
    "        \"address\": \"lalitpur\",\n",
    "        \"phone_no\": \"9741819252\",\n",
    "        \"interest\": \"Graphic Design\"\n",
    "    },\n",
    "    {\n",
    "        \"student_id\": \"S002\",\n",
    "        \"name\": \"Ujjwal Chaulagain\",\n",
    "        \"address\": \"Kathmandu\",\n",
    "        \"phone_no\": \"9876543210\",\n",
    "        \"interest\": \"Web Development\"\n",
    "    }\n",
    "]\n",
    "# write to JSON file\n",
    "with open('example_files/students.json', 'w') as json_file:\n",
    "    json.dump(students, json_file, indent=4)"
   ]
  },
  {
   "cell_type": "code",
   "execution_count": 4,
   "metadata": {},
   "outputs": [],
   "source": [
    "import random\n",
    "\n",
    "random.seed(40)\n",
    "# Add IQ scores between 90-140 for each student\n",
    "for student in students:\n",
    "    student['iq_score']= random.randint(90, 140)\n",
    "    \n",
    "# write updated data back to Json file\n",
    "with open('example_files/students.json', 'w') as json_file:   \n",
    "    json.dump(students, json_file, indent=4) "
   ]
  },
  {
   "cell_type": "code",
   "execution_count": 5,
   "metadata": {},
   "outputs": [],
   "source": [
    "# function to update student info\n",
    "def update_student(student_id, field, new_value):\n",
    "    for student in students:\n",
    "        if student[\"student_id\"] == student_id:\n",
    "            student[field] = new_value\n",
    "            return True\n",
    "    return False\n",
    "    \n",
    "update_student('s001', 'phone_no', '9742829252'),\n",
    "update_student('s001', 'address', 'lalitpur, Nepal'),\n",
    "update_student('s001', \"iq_score\", 100),\n",
    "    \n",
    "with open('example_files/students.json', 'w') as json_file:\n",
    "    json.dump(students, json_file, indent=4)"
   ]
  },
  {
   "cell_type": "code",
   "execution_count": 6,
   "metadata": {},
   "outputs": [
    {
     "name": "stdout",
     "output_type": "stream",
     "text": [
      "Number of students with IQ > 100: 1\n",
      "\n",
      "Students with high IQ:\n",
      "Name: Ujjwal Chaulagain, IQ: 127\n"
     ]
    }
   ],
   "source": [
    "# Read the JSON file\n",
    "with open ('example_files/students.json', 'r') as json_file:\n",
    "    data = json.load(json_file)\n",
    "high_iq_students = [student for student in data if student.get('iq_score', 0) > 100]\n",
    "print(f\"Number of students with IQ > 100: {len(high_iq_students)}\")\n",
    "print(\"\\nStudents with high IQ:\")\n",
    "for student in high_iq_students:\n",
    "    print(f\"Name: {student['name']}, IQ: {student['iq_score']}\")\n"
   ]
  },
  {
   "cell_type": "code",
   "execution_count": 7,
   "metadata": {},
   "outputs": [],
   "source": [
    "import pandas as pd\n",
    "#Convert the data (list of dictionaries) to a pandas DataFrame\n",
    "df = pd.DataFrame(data)\n",
    "\n",
    "df.to_csv('example_files/students.csv', index=False)"
   ]
  }
 ],
 "metadata": {
  "kernelspec": {
   "display_name": "Python 3",
   "language": "python",
   "name": "python3"
  },
  "language_info": {
   "codemirror_mode": {
    "name": "ipython",
    "version": 3
   },
   "file_extension": ".py",
   "mimetype": "text/x-python",
   "name": "python",
   "nbconvert_exporter": "python",
   "pygments_lexer": "ipython3",
   "version": "3.13.1"
  }
 },
 "nbformat": 4,
 "nbformat_minor": 2
}
