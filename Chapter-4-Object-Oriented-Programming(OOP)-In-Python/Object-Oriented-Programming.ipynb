{
 "cells": [
  {
   "cell_type": "markdown",
   "metadata": {},
   "source": [
    "# Object-Oriented Programming (OOP) in Python\n",
    "\n",
    "Object-Oriented Programming (OOP) is a programming paradigm that organizes code into objects, which bundle data (attributes) and behavior (methods) together. Python supports OOP principles like encapsulation, inheritance, and polymorphism, making it a powerful tool for building modular and reusable code.\n",
    "\n",
    "# Lets first learn Built-in classes ( str and int)\n",
    "\n",
    "\n",
    "# str Class\n",
    "\n",
    "The str class represents a sequence of characters and provides various methods for string manipulation."
   ]
  },
  {
   "cell_type": "code",
   "execution_count": 7,
   "metadata": {},
   "outputs": [
    {
     "name": "stdout",
     "output_type": "stream",
     "text": [
      "<class 'str'>\n",
      "HELLO, WORLD!\n",
      "hello, world!\n",
      "Hello, Python!\n",
      "['Hello', ' World!']\n",
      "['Hello,', 'World!']\n"
     ]
    }
   ],
   "source": [
    "s = \"Hello, World!\"\n",
    "print(type(s))\n",
    "print(s.upper())\n",
    "print(s.lower())\n",
    "print(s.replace(\"World\", \"Python\"))\n",
    "print(s.split(\",\"))\n",
    "print(s.split())\n"
   ]
  },
  {
   "cell_type": "code",
   "execution_count": 1,
   "metadata": {},
   "outputs": [
    {
     "name": "stdout",
     "output_type": "stream",
     "text": [
      "\n",
      "\"Hello good morning, this is Prajwal Chaulagain\n",
      "0\n",
      "47\n"
     ]
    }
   ],
   "source": [
    "new_paragraph=\"\"\"\n",
    "\"Hello good morning, this is Prajwal Chaulagain\"\"\"\n",
    "print(new_paragraph)\n",
    "\n",
    "# print(new_paragraph)\n",
    "# new_paragraph = new_paragraph.strip()\n",
    "# print(new_paragraph)\n",
    "new_paragraph = new_paragraph.split(\"\\n\")\n",
    "\n",
    "for each_sentence_word  in new_paragraph:\n",
    "    # print(len(each_sentence_word))\n",
    "    stripped_sentence_word = each_sentence_word.strip()\n",
    "    print(len(each_sentence_word))\n",
    "    # print(stripped_sentence_word)\n",
    "\n",
    "# print(new_paragraph)"
   ]
  },
  {
   "cell_type": "markdown",
   "metadata": {},
   "source": [
    "# int Class"
   ]
  },
  {
   "cell_type": "markdown",
   "metadata": {},
   "source": [
    "The int class represents intergers and provides mathematical operations."
   ]
  },
  {
   "cell_type": "code",
   "execution_count": 12,
   "metadata": {},
   "outputs": [
    {
     "name": "stdout",
     "output_type": "stream",
     "text": [
      "4\n",
      "15\n",
      "100\n"
     ]
    }
   ],
   "source": [
    "x = 10\n",
    "print(x.bit_length())\n",
    "print(x.__add__(5))\n",
    "print(int(\"100\"))"
   ]
  },
  {
   "cell_type": "code",
   "execution_count": 4,
   "metadata": {},
   "outputs": [],
   "source": [
    "#help(str)\n",
    "#help(int)"
   ]
  },
  {
   "cell_type": "code",
   "execution_count": 33,
   "metadata": {},
   "outputs": [
    {
     "name": "stdout",
     "output_type": "stream",
     "text": [
      "Car: Toyota X-674\n",
      "Price: 50000\n"
     ]
    }
   ],
   "source": [
    "# General class\n",
    "class Car:\n",
    "    def __init__(self, brand, model, price): #Constructor\n",
    "        self.brand = brand\n",
    "        self.model = model\n",
    "        self.price = price\n",
    "    # This class is with single method\n",
    "    def display_info(self):\n",
    "        print(f\"Car: {self.brand} {self.model}\")\n",
    "    def showPrice(self):\n",
    "        print(f\"Price: {self.price}\")\n",
    "            \n",
    "# Creating an object\n",
    "car1 = Car(\"Toyota\", \"X-674\", 50000)\n",
    "car1.display_info() \n",
    "car1.showPrice()"
   ]
  },
  {
   "cell_type": "code",
   "execution_count": 34,
   "metadata": {},
   "outputs": [
    {
     "name": "stdout",
     "output_type": "stream",
     "text": [
      "12\n",
      "35\n"
     ]
    }
   ],
   "source": [
    "# class with multiple methods\n",
    "class Calculator:\n",
    "    def add(self, a, b):\n",
    "        return a + b\n",
    "    def multiply(self, a, b):\n",
    "        return a * b\n",
    "    \n",
    "calc = Calculator()\n",
    "print(calc.add(5, 7)) \n",
    "print(calc.multiply(5, 7))"
   ]
  },
  {
   "cell_type": "markdown",
   "metadata": {},
   "source": [
    "# Extending One Class to Another (Inheritance):"
   ]
  },
  {
   "cell_type": "code",
   "execution_count": 5,
   "metadata": {},
   "outputs": [
    {
     "name": "stdout",
     "output_type": "stream",
     "text": [
      "Bark!\n",
      "Base Animal method can be called from Dog:\n",
      "Bark!\n",
      "\n",
      "Inheritance check:\n",
      "Is Dog a subclass of Animal? {issubclass(Dog, Animal)}\n",
      "Is d an instance of Dog?) True\n",
      "Is d an instance of Animal?) True\n",
      "______________________________\n",
      "Is Cat a subclass of Animal? False\n",
      "Is c an instance of Animal? False\n"
     ]
    }
   ],
   "source": [
    "class Animal:\n",
    "    def make_sound(self):\n",
    "        print(\"Some generic sound\")\n",
    "        \n",
    "class Dog(Animal):# Dog is a inherits of Animal\n",
    "    def make_sound(self):\n",
    "        print(\"Bark!\")\n",
    "d = Dog()\n",
    "d.make_sound()   \n",
    "\n",
    "\n",
    "print(\"Base Animal method can be called from Dog:\")\n",
    "d.make_sound() \n",
    "\n",
    "# Check inheritance relationship\n",
    "print(\"\\nInheritance check:\")\n",
    "print(\"Is Dog a subclass of Animal? {issubclass(Dog, Animal)}\")  # True\n",
    "print(f\"Is d an instance of Dog?) {isinstance(d, Dog)}\")\n",
    "print(f\"Is d an instance of Animal?) {isinstance(d, Animal)}\")\n",
    "print(\"_\"*30)\n",
    "\n",
    "class Cat:\n",
    "     def make_sound(self):\n",
    "        print(\"Meow!\")\n",
    "\n",
    "c = Cat()\n",
    "print(f\"Is Cat a subclass of Animal? {issubclass(Cat, Animal)}\")  \n",
    "print(f\"Is c an instance of Animal? {isinstance(c, Animal)}\")  "
   ]
  },
  {
   "cell_type": "markdown",
   "metadata": {},
   "source": [
    "# Variable scope in classes"
   ]
  },
  {
   "cell_type": "code",
   "execution_count": 14,
   "metadata": {},
   "outputs": [
    {
     "name": "stdout",
     "output_type": "stream",
     "text": [
      "Prajwal\n"
     ]
    }
   ],
   "source": [
    "# Variable defined in self\n",
    "class Person:\n",
    "    def __init__(self, name):\n",
    "        self.name = name \n",
    "\n",
    "p = Person(\"Prajwal\")\n",
    "print(p.name) "
   ]
  },
  {
   "cell_type": "code",
   "execution_count": 17,
   "metadata": {},
   "outputs": [
    {
     "name": "stdout",
     "output_type": "stream",
     "text": [
      "2\n"
     ]
    }
   ],
   "source": [
    "# Variable defined and shared across all instances\n",
    "class Counter:\n",
    "    count = 0  \n",
    "\n",
    "    def __init__(self):\n",
    "        Counter.count += 1\n",
    "\n",
    "c1 = Counter()\n",
    "c2 = Counter()\n",
    "print(Counter.count) "
   ]
  },
  {
   "cell_type": "markdown",
   "metadata": {},
   "source": [
    "# Method overloading\n"
   ]
  },
  {
   "cell_type": "code",
   "execution_count": 18,
   "metadata": {},
   "outputs": [
    {
     "name": "stdout",
     "output_type": "stream",
     "text": [
      "0\n",
      "5\n",
      "5\n",
      "6\n"
     ]
    }
   ],
   "source": [
    "class MathOperations:\n",
    "    # This single method handles multiple argument patterns (overloading):\n",
    "    # - No arguments: returns 0\n",
    "    # - One argument: returns that argument\n",
    "    # - Multiple arguments: returns their sum\n",
    "    def add(self, *args):\n",
    "        if len(args) ==0:\n",
    "            return 0\n",
    "        elif len(args) == 1:\n",
    "            return args[0]\n",
    "        else:\n",
    "            return sum(args)\n",
    "        \n",
    "math = MathOperations()\n",
    "# Different ways to call the same method (overloaded):\n",
    "print(math.add())  \n",
    "print(math.add(5))\n",
    "print(math.add(2, 3))\n",
    "print(math.add(1, 2, 3))\n"
   ]
  },
  {
   "cell_type": "markdown",
   "metadata": {},
   "source": [
    "# Method Overriding"
   ]
  },
  {
   "cell_type": "code",
   "execution_count": 3,
   "metadata": {},
   "outputs": [
    {
     "name": "stdout",
     "output_type": "stream",
     "text": [
      "The vehicle is starting...\n",
      "Car is starting with ignition\n"
     ]
    }
   ],
   "source": [
    "class Vehicle:\n",
    "    def start(self):\n",
    "        print(\"The vehicle is starting...\")\n",
    "        \n",
    "class Car(Vehicle):\n",
    "    def start(self):\n",
    "        print(\"Car is starting with ignition\")\n",
    "        \n",
    "v = Vehicle()\n",
    "v.start()\n",
    "\n",
    "c = Car()\n",
    "c.start()\n"
   ]
  },
  {
   "cell_type": "code",
   "execution_count": 22,
   "metadata": {},
   "outputs": [
    {
     "name": "stdout",
     "output_type": "stream",
     "text": [
      "Args: (1, 'test', True)\n",
      "Type of args: <class 'tuple'>\n",
      "Args: ('Python', 3.14)\n",
      "Type of args: <class 'tuple'>\n",
      "Kwargs: {'name': 'Prajwal', 'age': 21, 'city': 'Lalitpur'}\n",
      "Kwargs: {'language': 'Python', 'version': 3.11}\n"
     ]
    }
   ],
   "source": [
    "# Demonstrationg *args and **kwargs\n",
    "def show_args(*args):\n",
    "    print(\"Args:\", args)\n",
    "    print(\"Type of args:\", type(args))\n",
    "    \n",
    "def show_kwargs(**kwargs):\n",
    "    print(\"Kwargs:\", kwargs)\n",
    "    \n",
    "show_args(1, \"test\", True)\n",
    "show_args(\"Python\", 3.14)\n",
    "\n",
    "show_kwargs(name=\"Prajwal\", age=21, city=\"Lalitpur\")\n",
    "show_kwargs(language=\"Python\", version=3.11)\n",
    "\n",
    "#def combined_demo(*args, **kwargs):\n",
    "    #print(\"Args:\", args)\n",
    "    #print(\"Kwargs:\", kwargs)\n",
    "\n",
    "    #combined_demo(100, 200, x=300, y=400)"
   ]
  },
  {
   "cell_type": "markdown",
   "metadata": {},
   "source": [
    "# Example for class uses in a big program"
   ]
  },
  {
   "cell_type": "markdown",
   "metadata": {},
   "source": [
    "# House Class"
   ]
  },
  {
   "cell_type": "code",
   "execution_count": 23,
   "metadata": {},
   "outputs": [
    {
     "name": "stdout",
     "output_type": "stream",
     "text": [
      "House Details:\n",
      "Price: 1500000\n",
      "Room: 5\n",
      "floors: 2\n",
      "Location: Suburbs\n",
      "\n",
      "Outdoor Amenities:\n",
      "Pool Size: 400 sq ft\n",
      "Garden Area: 2000 sq ft\n",
      "Total outdoor area: 2400 sq ft\n"
     ]
    }
   ],
   "source": [
    "class House:\n",
    "    def __init__(self, price, room, floors, location):\n",
    "        self.price = price\n",
    "        self.room = room\n",
    "        self.floor = floors\n",
    "        self.location = location\n",
    "        \n",
    "    def get_details(self):\n",
    "        print(\"House Details:\")\n",
    "        print(f\"Price: {self.price}\")\n",
    "        print(f\"Room: {self.room}\")\n",
    "        print(f\"floors: {self.floor}\")\n",
    "        print(f\"Location: {self.location}\")\n",
    "        \n",
    "        \n",
    "        # Villa extending House\n",
    "class Villa(House):\n",
    "    def __init__(self, price, rooms, floors, location, pool_size, garden_area):\n",
    "        super().__init__(price, rooms, floors, location)\n",
    "        self.pool_size = pool_size\n",
    "        self.garden_area = garden_area\n",
    "        \n",
    "    def get_outdoor_details(self):\n",
    "        print(f\"\\nOutdoor Amenities:\")\n",
    "        print(f\"Pool Size: {self.pool_size} sq ft\")\n",
    "        print(f\"Garden Area: {self.garden_area} sq ft\")\n",
    "        \n",
    "    def total_outdoor_area(self):\n",
    "        return self.pool_size + self.garden_area\n",
    "    \n",
    "    def calculate_price_per_room(self):\n",
    "        return self.price / self.rooms\n",
    "    \n",
    "    def calculate_price_per_room(self):\n",
    "        return self.price / self.rooms\n",
    "\n",
    "\n",
    "# Villa extending House\n",
    "class Villa(House):\n",
    "    def __init__(self, price, rooms, floors, location, pool_size, garden_area):\n",
    "        super().__init__(price, rooms, floors, location)\n",
    "        self.pool_size = pool_size\n",
    "        self.garden_area = garden_area\n",
    "        \n",
    "    def get_outdoor_details(self):\n",
    "        print(f\"\\nOutdoor Amenities:\")\n",
    "        print(f\"Pool Size: {self.pool_size} sq ft\")\n",
    "        print(f\"Garden Area: {self.garden_area} sq ft\")\n",
    "        \n",
    "    def total_outdoor_area(self):\n",
    "        return self.pool_size + self.garden_area\n",
    "\n",
    "# house instance \n",
    "# house = House(500000, 3, 2, \"Downtown\")\n",
    "# house.get_details()\n",
    "# print(f\"Price per room: ${house.calculate_price_per_room():,.2f}\")\n",
    "\n",
    "# villa instance, inheriting from House\n",
    "villa = Villa(1500000, 5, 2, \"Suburbs\", 400, 2000)\n",
    "villa.get_details()\n",
    "villa.get_outdoor_details()\n",
    "print(f\"Total outdoor area: {villa.total_outdoor_area()} sq ft\")"
   ]
  },
  {
   "cell_type": "markdown",
   "metadata": {},
   "source": [
    "# Library Class"
   ]
  },
  {
   "cell_type": "code",
   "execution_count": 24,
   "metadata": {},
   "outputs": [
    {
     "name": "stdout",
     "output_type": "stream",
     "text": [
      "Book \"The Catcher in the Rye\" by J.D. Salinger added.\n",
      "Book \"To Kill a Mockingbird\" by Harper Lee added.\n",
      "Book \"1984\" by George Orwell added.\n",
      "Book \"A Brief History of Time\" by Stephen Hawking added.\n",
      "Book \"The Art of Computer Programming\" by Donald Knuth added.\n",
      "Books available in \"City Library\":\n",
      "- \"The Catcher in the Rye\" by J.D. Salinger\n",
      "- \"To Kill a Mockingbird\" by Harper Lee\n",
      "- \"1984\" by George Orwell\n",
      "Book found: \"1984\" by George Orwell\n",
      "Book \"1984\" removed.\n",
      "Book \"1984\" not found.\n"
     ]
    }
   ],
   "source": [
    "class Library:\n",
    "    \"\"\"This is library class\"\"\"\n",
    "    def __init__(self, name):\n",
    "        self.name = name  # Library name\n",
    "        self.books = []  # List to store books\n",
    "\n",
    "    def add_book(self, title, author):\n",
    "        \"\"\"Adds a new book to the library.\"\"\"\n",
    "        self.books.append({\"title\": title, \"author\": author})\n",
    "        print(f'Book \"{title}\" by {author} added.')\n",
    "\n",
    "    def remove_book(self, title):\n",
    "        \"\"\"Removes a book from the library by title.\"\"\"\n",
    "        for book in self.books:\n",
    "            if book[\"title\"] == title:\n",
    "                self.books.remove(book)\n",
    "                print(f'Book \"{title}\" removed.')\n",
    "                return\n",
    "        print(f'Book \"{title}\" not found.')\n",
    "\n",
    "    def search_book(self, title):\n",
    "        \"\"\"Searches for a book by title.\"\"\"\n",
    "        for book in self.books:\n",
    "            if book[\"title\"] == title:\n",
    "                print(f'Book found: \"{book[\"title\"]}\" by {book[\"author\"]}')\n",
    "                return\n",
    "        print(f'Book \"{title}\" not found.')\n",
    "        \n",
    "    def display_books(self):\n",
    "        \"\"\"Displays all books in the library.\"\"\"\n",
    "        if not self.books:\n",
    "            print(\"No books available in the library.\")\n",
    "        else:\n",
    "            print(f'Books available in \"{self.name}\":')\n",
    "            for book in self.books:\n",
    "                print(f'- \"{book[\"title\"]}\" by {book[\"author\"]}')\n",
    "                \n",
    " # Creating multiple instances of Library\n",
    "library1 = Library(\"City Library\")\n",
    "library2 = Library(\"University Library\")\n",
    "\n",
    "# print(library1)\n",
    "# print(library1)\n",
    "\n",
    "# Adding books to Library 1\n",
    "library1.add_book(\"The Catcher in the Rye\", \"J.D. Salinger\")\n",
    "library1.add_book(\"To Kill a Mockingbird\", \"Harper Lee\")\n",
    "library1.add_book(\"1984\", \"George Orwell\")\n",
    "\n",
    "# # Adding books to Library 2\n",
    "library2.add_book(\"A Brief History of Time\", \"Stephen Hawking\")\n",
    "library2.add_book(\"The Art of Computer Programming\", \"Donald Knuth\")\n",
    "\n",
    "# # Displaying books in both libraries\n",
    "library1.display_books()\n",
    "# library2.display_books()\n",
    "\n",
    "# # Searching and removing books\n",
    "library1.search_book(\"1984\")\n",
    "library1.remove_book(\"1984\")\n",
    "library1.search_book(\"1984\")\n",
    "\n",
    "# # Displaying books after removal\n",
    "# library1.display_books()\n"
   ]
  },
  {
   "cell_type": "markdown",
   "metadata": {},
   "source": [
    "# Encaptulation and Property Deorators (@property)"
   ]
  },
  {
   "cell_type": "code",
   "execution_count": 13,
   "metadata": {},
   "outputs": [
    {
     "name": "stdout",
     "output_type": "stream",
     "text": [
      "21\n"
     ]
    }
   ],
   "source": [
    "class Person:\n",
    "    def __init__(self, name, age):\n",
    "        self.name = name\n",
    "        self._age = age    #This is a protected variable\n",
    "        \n",
    "    @property\n",
    "    def age(self):\n",
    "        return self._age #getter method\n",
    "    \n",
    "    @age.setter\n",
    "    def age(self, value):\n",
    "        if value < 0:\n",
    "            raise ValueError(\"Age cannot be negative\")\n",
    "        self._age = value\n",
    "        \n",
    "p = Person(\"Prajwal\", 21)\n",
    "print(p.age)  # Output: 21\n",
    "p.age = 25\n",
    "#p.age = -4  #This will raise an error"
   ]
  },
  {
   "cell_type": "markdown",
   "metadata": {},
   "source": [
    "# Destructor"
   ]
  },
  {
   "cell_type": "code",
   "execution_count": 25,
   "metadata": {},
   "outputs": [
    {
     "name": "stdout",
     "output_type": "stream",
     "text": [
      "Object MyObject created\n"
     ]
    }
   ],
   "source": [
    "class Example:\n",
    "    def __init__(self, name):\n",
    "        self.name = name\n",
    "        print(f\"Object {name} created\")\n",
    "        \n",
    "        def __del__(self):\n",
    "            print(f\"Object {self.name} is being destroyed.\")\n",
    "\n",
    "obj = Example(\"MyObject\")\n",
    "\n",
    "del obj\n",
    "# __del__() is called automatically when the object is deleted."
   ]
  },
  {
   "cell_type": "markdown",
   "metadata": {},
   "source": [
    "# Polymorphism"
   ]
  },
  {
   "cell_type": "markdown",
   "metadata": {},
   "source": [
    "Polymorphism allows objects of different classes to be treated as objects of a common superclass. It enables methods with the same name to be used on different types of objects, promoting flexibility and code reusability.\n",
    "\n",
    "The easiest explanation of pollymorphism is, for your father and mother you are a son, for your siblings you are a brother/sister, for your teacher you are a student. So there could be multiple form for a object ( You are an object, Here)"
   ]
  },
  {
   "cell_type": "code",
   "execution_count": 14,
   "metadata": {},
   "outputs": [
    {
     "name": "stdout",
     "output_type": "stream",
     "text": [
      "Meow\n",
      "Woof\n"
     ]
    }
   ],
   "source": [
    "class Cat:\n",
    "    def sound(self):\n",
    "        return \"Meow\"\n",
    "    \n",
    "class Dog:\n",
    "    def sound(self):\n",
    "        return \"Woof\"\n",
    "    \n",
    "def make_sound(animal):\n",
    "    print(animal.sound())\n",
    "    \n",
    "cat = Cat()\n",
    "dog = Dog()\n",
    "\n",
    "make_sound(cat)\n",
    "make_sound(dog)"
   ]
  },
  {
   "cell_type": "markdown",
   "metadata": {},
   "source": [
    "# Polymorphism with inheritance"
   ]
  },
  {
   "cell_type": "code",
   "execution_count": 26,
   "metadata": {},
   "outputs": [
    {
     "name": "stdout",
     "output_type": "stream",
     "text": [
      "Meow\n",
      "Im moving\n",
      "Woof\n",
      "Im moving\n"
     ]
    }
   ],
   "source": [
    "class Animal:\n",
    "    def make_sound(self):\n",
    "        return \"Im making a sound\"\n",
    "    def move(self):\n",
    "        return \"Im moving\"\n",
    "    \n",
    "class Cat(Animal):\n",
    "    def make_sound(self):\n",
    "        return \"Meow\"\n",
    "\n",
    "class Dog(Animal):\n",
    "    def make_sound(self):\n",
    "        return \"Woof\"\n",
    "\n",
    "animals = [Cat(), Dog()]\n",
    "\n",
    "for animal in animals:\n",
    "    print(animal.make_sound()) \n",
    "    print(animal.move()) "
   ]
  },
  {
   "cell_type": "code",
   "execution_count": 28,
   "metadata": {},
   "outputs": [
    {
     "name": "stdout",
     "output_type": "stream",
     "text": [
      "(7, 14)\n"
     ]
    }
   ],
   "source": [
    "class Vector:\n",
    "    def __init__(self, x, y):\n",
    "        self.x = x\n",
    "        self.y = y\n",
    "\n",
    "    def __add__(self, other):\n",
    "        return Vector(self.x + other.x, self.y + other.y)\n",
    "\n",
    "# __str__() is automatically called when using print(object) or str(object) to get a user-friendly string representation.\n",
    "\n",
    "    def __str__(self):\n",
    "        # print(3)\n",
    "        return f\"({self.x}, {self.y})\"\n",
    "\n",
    "v1 = Vector(2, 4)\n",
    "v2 = Vector(5, 10)\n",
    "\n",
    "v3 = v1 + v2 \n",
    "print(v3)"
   ]
  }
 ],
 "metadata": {
  "kernelspec": {
   "display_name": ".myenv",
   "language": "python",
   "name": "python3"
  },
  "language_info": {
   "codemirror_mode": {
    "name": "ipython",
    "version": 3
   },
   "file_extension": ".py",
   "mimetype": "text/x-python",
   "name": "python",
   "nbconvert_exporter": "python",
   "pygments_lexer": "ipython3",
   "version": "3.13.1"
  }
 },
 "nbformat": 4,
 "nbformat_minor": 2
}
