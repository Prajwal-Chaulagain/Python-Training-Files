{
 "cells": [
  {
   "cell_type": "markdown",
   "metadata": {},
   "source": [
    "# Pandas: Essential Data Manipulation Library #\n",
    "Pandas is a powerful Python library for data manipulation and analysis. It provides:\n",
    "\n",
    "* High-performance, easy-to-use data structures (DataFrame and Series)\n",
    "* Tools for reading/writing various file formats (CSV, Excel, SQL databases)\n",
    "* Data alignment and integrated handling of missing data\n",
    "* Reshaping, merging, and pivoting data\n",
    "* Robust time series functionality\n",
    "\n",
    "Key features that make it essential for Data Science:\n",
    "\n",
    "1. Efficient data handling of large datasets\n",
    "2. Built-in data visualization\n",
    "3. Powerful data aggregation and transformation operations\n",
    "4. Seamless integration with other scientific Python libraries"
   ]
  },
  {
   "cell_type": "code",
   "execution_count": 1,
   "metadata": {},
   "outputs": [
    {
     "data": {
      "text/html": [
       "<div>\n",
       "<style scoped>\n",
       "    .dataframe tbody tr th:only-of-type {\n",
       "        vertical-align: middle;\n",
       "    }\n",
       "\n",
       "    .dataframe tbody tr th {\n",
       "        vertical-align: top;\n",
       "    }\n",
       "\n",
       "    .dataframe thead th {\n",
       "        text-align: right;\n",
       "    }\n",
       "</style>\n",
       "<table border=\"1\" class=\"dataframe\">\n",
       "  <thead>\n",
       "    <tr style=\"text-align: right;\">\n",
       "      <th></th>\n",
       "      <th>name</th>\n",
       "      <th>age</th>\n",
       "      <th>city</th>\n",
       "    </tr>\n",
       "  </thead>\n",
       "  <tbody>\n",
       "    <tr>\n",
       "      <th>0</th>\n",
       "      <td>Prajwal</td>\n",
       "      <td>21</td>\n",
       "      <td>lalitpur</td>\n",
       "    </tr>\n",
       "    <tr>\n",
       "      <th>1</th>\n",
       "      <td>Anil</td>\n",
       "      <td>20</td>\n",
       "      <td>Chapagau</td>\n",
       "    </tr>\n",
       "    <tr>\n",
       "      <th>2</th>\n",
       "      <td>Luv</td>\n",
       "      <td>22</td>\n",
       "      <td>Koteshwor</td>\n",
       "    </tr>\n",
       "    <tr>\n",
       "      <th>3</th>\n",
       "      <td>Bibek</td>\n",
       "      <td>22</td>\n",
       "      <td>Kathmandu</td>\n",
       "    </tr>\n",
       "    <tr>\n",
       "      <th>4</th>\n",
       "      <td>Kritika</td>\n",
       "      <td>21</td>\n",
       "      <td>Baneshwor</td>\n",
       "    </tr>\n",
       "  </tbody>\n",
       "</table>\n",
       "</div>"
      ],
      "text/plain": [
       "      name  age       city\n",
       "0  Prajwal   21   lalitpur\n",
       "1     Anil   20   Chapagau\n",
       "2      Luv   22  Koteshwor\n",
       "3    Bibek   22  Kathmandu\n",
       "4  Kritika   21  Baneshwor"
      ]
     },
     "execution_count": 1,
     "metadata": {},
     "output_type": "execute_result"
    }
   ],
   "source": [
    "import pandas as pd\n",
    "\n",
    "# Create a sample list of dictionaries\n",
    "data = [\n",
    "    {'name': 'Prajwal', 'age': 21, 'city': 'lalitpur'},\n",
    "    {'name': 'Anil', 'age': 20, 'city': 'Chapagau'},\n",
    "    {'name': 'Luv', 'age': 22, 'city': 'Koteshwor'}\n",
    "]\n",
    "\n",
    "data.extend([\n",
    "    {'name': 'Bibek', 'age': 22, 'city': 'Kathmandu'},\n",
    "    {'name': 'Kritika', 'age': 21, 'city': 'Baneshwor'}\n",
    "])\n",
    "\n",
    "# Convert list to DataFrame\n",
    "df = pd.DataFrame(data)\n",
    "\n",
    "# Display the DataFrame\n",
    "df"
   ]
  },
  {
   "cell_type": "code",
   "execution_count": 2,
   "metadata": {},
   "outputs": [
    {
     "name": "stdout",
     "output_type": "stream",
     "text": [
      "\n",
      "Loaded DataFrame:\n"
     ]
    },
    {
     "data": {
      "text/html": [
       "<div>\n",
       "<style scoped>\n",
       "    .dataframe tbody tr th:only-of-type {\n",
       "        vertical-align: middle;\n",
       "    }\n",
       "\n",
       "    .dataframe tbody tr th {\n",
       "        vertical-align: top;\n",
       "    }\n",
       "\n",
       "    .dataframe thead th {\n",
       "        text-align: right;\n",
       "    }\n",
       "</style>\n",
       "<table border=\"1\" class=\"dataframe\">\n",
       "  <thead>\n",
       "    <tr style=\"text-align: right;\">\n",
       "      <th></th>\n",
       "      <th>name</th>\n",
       "      <th>age</th>\n",
       "      <th>city</th>\n",
       "    </tr>\n",
       "  </thead>\n",
       "  <tbody>\n",
       "    <tr>\n",
       "      <th>0</th>\n",
       "      <td>Prajwal</td>\n",
       "      <td>21</td>\n",
       "      <td>lalitpur</td>\n",
       "    </tr>\n",
       "    <tr>\n",
       "      <th>1</th>\n",
       "      <td>Anil</td>\n",
       "      <td>20</td>\n",
       "      <td>Chapagau</td>\n",
       "    </tr>\n",
       "    <tr>\n",
       "      <th>2</th>\n",
       "      <td>Luv</td>\n",
       "      <td>22</td>\n",
       "      <td>Koteshwor</td>\n",
       "    </tr>\n",
       "    <tr>\n",
       "      <th>3</th>\n",
       "      <td>Bibek</td>\n",
       "      <td>22</td>\n",
       "      <td>Kathmandu</td>\n",
       "    </tr>\n",
       "    <tr>\n",
       "      <th>4</th>\n",
       "      <td>Kritika</td>\n",
       "      <td>21</td>\n",
       "      <td>Baneshwor</td>\n",
       "    </tr>\n",
       "  </tbody>\n",
       "</table>\n",
       "</div>"
      ],
      "text/plain": [
       "      name  age       city\n",
       "0  Prajwal   21   lalitpur\n",
       "1     Anil   20   Chapagau\n",
       "2      Luv   22  Koteshwor\n",
       "3    Bibek   22  Kathmandu\n",
       "4  Kritika   21  Baneshwor"
      ]
     },
     "execution_count": 2,
     "metadata": {},
     "output_type": "execute_result"
    }
   ],
   "source": [
    "# Save DataFrame to CSV\n",
    "df.to_csv('sample_data.csv', index=False)\n",
    "\n",
    "# Read back the CSV file\n",
    "df_loaded = pd.read_csv('sample_data.csv')\n",
    "\n",
    "# Display the loaded DataFrame\n",
    "print(\"\\nLoaded DataFrame:\")\n",
    "df_loaded"
   ]
  },
  {
   "cell_type": "code",
   "execution_count": 3,
   "metadata": {},
   "outputs": [
    {
     "name": "stdout",
     "output_type": "stream",
     "text": [
      "Basic DataFrame Info:\n",
      "<class 'pandas.core.frame.DataFrame'>\n",
      "RangeIndex: 5 entries, 0 to 4\n",
      "Data columns (total 3 columns):\n",
      " #   Column  Non-Null Count  Dtype \n",
      "---  ------  --------------  ----- \n",
      " 0   name    5 non-null      object\n",
      " 1   age     5 non-null      int64 \n",
      " 2   city    5 non-null      object\n",
      "dtypes: int64(1), object(2)\n",
      "memory usage: 252.0+ bytes\n",
      "None\n",
      "\n",
      "DataFrame Description:\n",
      "            age\n",
      "count   5.00000\n",
      "mean   21.20000\n",
      "std     0.83666\n",
      "min    20.00000\n",
      "25%    21.00000\n",
      "50%    21.00000\n",
      "75%    22.00000\n",
      "max    22.00000\n"
     ]
    }
   ],
   "source": [
    "# Basic DataFrame information\n",
    "print(\"Basic DataFrame Info:\")\n",
    "print(df.info())\n",
    "print(\"\\nDataFrame Description:\")\n",
    "print(df.describe())"
   ]
  },
  {
   "cell_type": "code",
   "execution_count": 4,
   "metadata": {},
   "outputs": [
    {
     "name": "stdout",
     "output_type": "stream",
     "text": [
      "\n",
      "Column Names: ['name', 'age', 'city']\n",
      "\n",
      "First 2 rows:\n",
      "      name  age      city\n",
      "0  Prajwal   21  lalitpur\n",
      "1     Anil   20  Chapagau\n",
      "\n",
      "Last 2 rows:\n",
      "      name  age       city\n",
      "3    Bibek   22  Kathmandu\n",
      "4  Kritika   21  Baneshwor\n"
     ]
    }
   ],
   "source": [
    "# Basic data exploration\n",
    "print(\"\\nColumn Names:\", df.columns.tolist())\n",
    "print(\"\\nFirst 2 rows:\")\n",
    "print(df.head(2))\n",
    "print(\"\\nLast 2 rows:\")\n",
    "print(df.tail(2))"
   ]
  },
  {
   "cell_type": "code",
   "execution_count": 5,
   "metadata": {},
   "outputs": [
    {
     "name": "stdout",
     "output_type": "stream",
     "text": [
      "\n",
      "Age Statistics:\n",
      "Average age: 21.2\n",
      "Minimum age: 20\n",
      "Maximum age: 22\n"
     ]
    }
   ],
   "source": [
    "# Basic statistics and aggregations\n",
    "print(\"\\nAge Statistics:\")\n",
    "print(\"Average age:\", df['age'].mean())\n",
    "print(\"Minimum age:\", df['age'].min())\n",
    "print(\"Maximum age:\", df['age'].max())"
   ]
  },
  {
   "cell_type": "code",
   "execution_count": 6,
   "metadata": {},
   "outputs": [
    {
     "name": "stdout",
     "output_type": "stream",
     "text": [
      "\n",
      "People older than 30:\n",
      "Empty DataFrame\n",
      "Columns: [name, age, city]\n",
      "Index: []\n",
      "\n",
      "Sorted by age (descending):\n",
      "      name  age       city\n",
      "2      Luv   22  Koteshwor\n",
      "3    Bibek   22  Kathmandu\n",
      "0  Prajwal   21   lalitpur\n",
      "4  Kritika   21  Baneshwor\n",
      "1     Anil   20   Chapagau\n"
     ]
    }
   ],
   "source": [
    "# Filtering and sorting\n",
    "print(\"\\nPeople older than 30:\")\n",
    "print(df[df['age'] > 30])\n",
    "\n",
    "print(\"\\nSorted by age (descending):\")\n",
    "print(df.sort_values('age', ascending=False))\n"
   ]
  },
  {
   "cell_type": "code",
   "execution_count": 7,
   "metadata": {},
   "outputs": [
    {
     "name": "stdout",
     "output_type": "stream",
     "text": [
      "\n",
      "City distribution:\n",
      "city\n",
      "lalitpur     1\n",
      "Chapagau     1\n",
      "Koteshwor    1\n",
      "Kathmandu    1\n",
      "Baneshwor    1\n",
      "Name: count, dtype: int64\n"
     ]
    }
   ],
   "source": [
    "# Value counts\n",
    "print(\"\\nCity distribution:\")\n",
    "print(df['city'].value_counts())"
   ]
  },
  {
   "cell_type": "code",
   "execution_count": 8,
   "metadata": {},
   "outputs": [
    {
     "name": "stdout",
     "output_type": "stream",
     "text": [
      "\n",
      "DataFrame with age groups:\n"
     ]
    },
    {
     "data": {
      "text/html": [
       "<div>\n",
       "<style scoped>\n",
       "    .dataframe tbody tr th:only-of-type {\n",
       "        vertical-align: middle;\n",
       "    }\n",
       "\n",
       "    .dataframe tbody tr th {\n",
       "        vertical-align: top;\n",
       "    }\n",
       "\n",
       "    .dataframe thead th {\n",
       "        text-align: right;\n",
       "    }\n",
       "</style>\n",
       "<table border=\"1\" class=\"dataframe\">\n",
       "  <thead>\n",
       "    <tr style=\"text-align: right;\">\n",
       "      <th></th>\n",
       "      <th>name</th>\n",
       "      <th>age</th>\n",
       "      <th>city</th>\n",
       "      <th>age_group</th>\n",
       "    </tr>\n",
       "  </thead>\n",
       "  <tbody>\n",
       "    <tr>\n",
       "      <th>0</th>\n",
       "      <td>Prajwal</td>\n",
       "      <td>21</td>\n",
       "      <td>lalitpur</td>\n",
       "      <td>20-25</td>\n",
       "    </tr>\n",
       "    <tr>\n",
       "      <th>1</th>\n",
       "      <td>Anil</td>\n",
       "      <td>20</td>\n",
       "      <td>Chapagau</td>\n",
       "      <td>NaN</td>\n",
       "    </tr>\n",
       "    <tr>\n",
       "      <th>2</th>\n",
       "      <td>Luv</td>\n",
       "      <td>22</td>\n",
       "      <td>Koteshwor</td>\n",
       "      <td>20-25</td>\n",
       "    </tr>\n",
       "    <tr>\n",
       "      <th>3</th>\n",
       "      <td>Bibek</td>\n",
       "      <td>22</td>\n",
       "      <td>Kathmandu</td>\n",
       "      <td>20-25</td>\n",
       "    </tr>\n",
       "    <tr>\n",
       "      <th>4</th>\n",
       "      <td>Kritika</td>\n",
       "      <td>21</td>\n",
       "      <td>Baneshwor</td>\n",
       "      <td>20-25</td>\n",
       "    </tr>\n",
       "  </tbody>\n",
       "</table>\n",
       "</div>"
      ],
      "text/plain": [
       "      name  age       city age_group\n",
       "0  Prajwal   21   lalitpur     20-25\n",
       "1     Anil   20   Chapagau       NaN\n",
       "2      Luv   22  Koteshwor     20-25\n",
       "3    Bibek   22  Kathmandu     20-25\n",
       "4  Kritika   21  Baneshwor     20-25"
      ]
     },
     "execution_count": 8,
     "metadata": {},
     "output_type": "execute_result"
    }
   ],
   "source": [
    "# Basic data transformation\n",
    "df['age_group'] = pd.cut(df['age'], \n",
    "                        bins=[20, 25, 30, 35, 40],\n",
    "                        labels=['20-25', '26-30', '31-35', '36-40'])\n",
    "print(\"\\nDataFrame with age groups:\")\n",
    "df"
   ]
  }
 ],
 "metadata": {
  "kernelspec": {
   "display_name": "Python 3",
   "language": "python",
   "name": "python3"
  },
  "language_info": {
   "codemirror_mode": {
    "name": "ipython",
    "version": 3
   },
   "file_extension": ".py",
   "mimetype": "text/x-python",
   "name": "python",
   "nbconvert_exporter": "python",
   "pygments_lexer": "ipython3",
   "version": "3.13.1"
  }
 },
 "nbformat": 4,
 "nbformat_minor": 2
}
