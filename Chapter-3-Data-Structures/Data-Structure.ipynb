{
 "cells": [
  {
   "cell_type": "code",
   "execution_count": 2,
   "metadata": {},
   "outputs": [
    {
     "name": "stdout",
     "output_type": "stream",
     "text": [
      "[1, 3, 4, 5, 6]\n"
     ]
    }
   ],
   "source": [
    "# Lists: Mutable, Ordered, indexing, slicing, methods (append(), remove(), sort(), reverse(), etc.)\n",
    "my_list = [1, 2, 3, 4, 5]\n",
    "my_list.append(6)\n",
    "my_list.remove(2)\n",
    "#my_list.sort(reverse=True)\n",
    "#print(\"List:\", my_list)\n",
    "sorted(my_list, reverse=True)\n",
    "new_list = my_list.copy()\n",
    "print(new_list)"
   ]
  },
  {
   "cell_type": "code",
   "execution_count": 18,
   "metadata": {},
   "outputs": [
    {
     "name": "stdout",
     "output_type": "stream",
     "text": [
      "Tuple: (1, 2, 3, 4, 5)\n",
      "Count of 3 in tuple: 1\n",
      "Count of 4 in tuple: 3\n"
     ]
    },
    {
     "ename": "TypeError",
     "evalue": "'tuple' object is not callable",
     "output_type": "error",
     "traceback": [
      "\u001b[1;31m---------------------------------------------------------------------------\u001b[0m",
      "\u001b[1;31mTypeError\u001b[0m                                 Traceback (most recent call last)",
      "Cell \u001b[1;32mIn[18], line 6\u001b[0m\n\u001b[0;32m      4\u001b[0m \u001b[38;5;28mprint\u001b[39m(\u001b[38;5;124m\"\u001b[39m\u001b[38;5;124mCount of 3 in tuple:\u001b[39m\u001b[38;5;124m\"\u001b[39m, my_tuple\u001b[38;5;241m.\u001b[39mcount(\u001b[38;5;241m2\u001b[39m))\n\u001b[0;32m      5\u001b[0m \u001b[38;5;28mprint\u001b[39m(\u001b[38;5;124m\"\u001b[39m\u001b[38;5;124mCount of 4 in tuple:\u001b[39m\u001b[38;5;124m\"\u001b[39m, my_tuple\u001b[38;5;241m.\u001b[39mindex(\u001b[38;5;241m4\u001b[39m))\n\u001b[1;32m----> 6\u001b[0m \u001b[38;5;28mprint\u001b[39m(\u001b[43mmy_tuple\u001b[49m\u001b[43m(\u001b[49m\u001b[38;5;241;43m2\u001b[39;49m\u001b[43m)\u001b[49m)\n\u001b[0;32m      7\u001b[0m my_tuple[\u001b[38;5;241m1\u001b[39m]\u001b[38;5;241m=\u001b[39m\u001b[38;5;241m1\u001b[39m   \n",
      "\u001b[1;31mTypeError\u001b[0m: 'tuple' object is not callable"
     ]
    }
   ],
   "source": [
    "# Tuples: Immutable, ordered, packing and unpacking, count(), index()\n",
    "my_tuple = (1, 2, 3, 4, 5)\n",
    "print(\"Tuple:\", my_tuple)\n",
    "print(\"Count of 3 in tuple:\", my_tuple.count(2))\n",
    "print(\"Count of 4 in tuple:\", my_tuple.index(4))\n",
    "print(my_tuple(2))\n",
    "my_tuple[1]=1   "
   ]
  },
  {
   "cell_type": "code",
   "execution_count": 5,
   "metadata": {},
   "outputs": [
    {
     "data": {
      "text/plain": [
       "5"
      ]
     },
     "execution_count": 5,
     "metadata": {},
     "output_type": "execute_result"
    }
   ],
   "source": [
    "tuple_list = list(my_tuple)\n",
    "tuple_list[4]"
   ]
  },
  {
   "cell_type": "code",
   "execution_count": 8,
   "metadata": {},
   "outputs": [
    {
     "name": "stdout",
     "output_type": "stream",
     "text": [
      "Set: {1, 3, 4, 5, 6}\n",
      "Union: {1, 3, 4, 5, 6, 7, 8}\n",
      "Inmtersection: {4, 5, 6}\n",
      "Difference: {1, 3}\n"
     ]
    }
   ],
   "source": [
    "# Sets: Unordered, unique elemrnts, set operations (union, intersection, differenece)\n",
    "my_set = {1, 2, 3, 4, 5}\n",
    "my_set.add(6)\n",
    "my_set.remove(2)\n",
    "another_set = {4, 5, 6, 7, 8}\n",
    "print(\"Set:\", my_set)\n",
    "print(\"Union:\", my_set.union(another_set))\n",
    "print(\"Intersection:\", my_set.intersection(another_set))\n",
    "print(\"Difference:\", my_set.difference(another_set))\n"
   ]
  },
  {
   "cell_type": "code",
   "execution_count": 9,
   "metadata": {},
   "outputs": [
    {
     "name": "stdout",
     "output_type": "stream",
     "text": [
      "{1, 3, 5}\n"
     ]
    }
   ],
   "source": [
    "first_set = {1, 2, 3, 4, 5}\n",
    "second_set ={2, 4, 6, 8, 10}\n",
    "result = first_set - second_set\n",
    "print(result)"
   ]
  },
  {
   "cell_type": "code",
   "execution_count": 12,
   "metadata": {},
   "outputs": [
    {
     "name": "stdout",
     "output_type": "stream",
     "text": [
      "{2, 4}\n",
      "{2, 4}\n"
     ]
    }
   ],
   "source": [
    "print(first_set.intersection(second_set))\n",
    "t3 = first_set.union(second_set)\n",
    "t1 = first_set - second_set\n",
    "t2 = second_set - first_set\n",
    "\n",
    "intersection_value = t3 - t1 - t2\n",
    "intersection_value\n",
    "print(intersection_value)"
   ]
  },
  {
   "cell_type": "code",
   "execution_count": 3,
   "metadata": {},
   "outputs": [
    {
     "name": "stdout",
     "output_type": "stream",
     "text": [
      "Dictionary: {'Name': 'Prajwal', 'Age': 22, 'Gender': 'Male', 'Location': 'Lalitpur'}\n",
      "Keys: dict_keys(['Name', 'Age', 'Gender', 'Location'])\n",
      "Values: dict_values(['Prajwal', 22, 'Male', 'Lalitpur'])\n",
      "Items: dict_items([('Name', 'Prajwal'), ('Age', 22), ('Gender', 'Male'), ('Location', 'Lalitpur')])\n"
     ]
    }
   ],
   "source": [
    "# Dictionaries: Key-value pairs, accessing/modifying elements, dictionary methods (keys(),  values(), items(), update(), etc.)\n",
    "my_dict = {'Name': \"Prajwal\", 'Age': 21, 'Gender': \"Male\"}\n",
    "my_dict[\"Age\"] = 22\n",
    "my_dict.update({'Location': 'Lalitpur'})\n",
    "print(\"Dictionary:\", my_dict)\n",
    "print(\"Keys:\", my_dict.keys())\n",
    "print(\"Values:\", my_dict.values())\n",
    "print(\"Items:\", my_dict.items())"
   ]
  },
  {
   "cell_type": "markdown",
   "metadata": {},
   "source": [
    "# List Comprehensions"
   ]
  },
  {
   "cell_type": "code",
   "execution_count": 14,
   "metadata": {},
   "outputs": [
    {
     "name": "stdout",
     "output_type": "stream",
     "text": [
      "Squares: [0, 1, 4, 9, 16, 25, 36, 49, 64, 81]\n"
     ]
    }
   ],
   "source": [
    "# Basic syntax\n",
    "squares = [x**2 for x in range(10)]\n",
    "print(\"Squares:\", squares)"
   ]
  },
  {
   "cell_type": "code",
   "execution_count": 15,
   "metadata": {},
   "outputs": [
    {
     "name": "stdout",
     "output_type": "stream",
     "text": [
      "Even Squares: [0, 4, 16, 36, 64]\n"
     ]
    }
   ],
   "source": [
    "# Conditional comprehensions(if)\n",
    "even_squares = [x**2 for x in range(10) if x % 2 ==0]\n",
    "print(\"Even Squares:\", even_squares)"
   ]
  },
  {
   "cell_type": "code",
   "execution_count": 16,
   "metadata": {},
   "outputs": [
    {
     "name": "stdout",
     "output_type": "stream",
     "text": [
      "Odd or Even: ['even', 'odd', 'even', 'odd', 'even', 'odd', 'even', 'odd', 'even', 'odd']\n"
     ]
    }
   ],
   "source": [
    "# Conditional comprehensions(if-else)\n",
    "odd_even = [\"even\" if x % 2 == 0 else \"odd\" for x in range(10)]\n",
    "print(\"Odd or Even:\", odd_even)"
   ]
  },
  {
   "cell_type": "code",
   "execution_count": 17,
   "metadata": {},
   "outputs": [
    {
     "name": "stdout",
     "output_type": "stream",
     "text": [
      "Matrix: [[0, 1, 2, 3, 4], [0, 1, 2, 3, 4], [0, 1, 2, 3, 4]]\n"
     ]
    }
   ],
   "source": [
    "# Nested comprehensions\n",
    "matrix = [[j for j in range(5)] for i in range(3)]\n",
    "print(\"Matrix:\", matrix)"
   ]
  },
  {
   "cell_type": "markdown",
   "metadata": {},
   "source": [
    "# Dictionary Comprehensions"
   ]
  },
  {
   "cell_type": "code",
   "execution_count": 18,
   "metadata": {},
   "outputs": [
    {
     "name": "stdout",
     "output_type": "stream",
     "text": [
      "Squares Dictionary: {0: 0, 1: 1, 2: 4, 3: 9, 4: 16, 5: 25, 6: 36, 7: 49, 8: 64, 9: 81}\n"
     ]
    }
   ],
   "source": [
    "# Basic syntax\n",
    "squares_dict = {x: x**2 for x in range(10)}\n",
    "print(\"Squares Dictionary:\", squares_dict)"
   ]
  },
  {
   "cell_type": "code",
   "execution_count": 4,
   "metadata": {},
   "outputs": [
    {
     "name": "stdout",
     "output_type": "stream",
     "text": [
      "Even Squares Dictionary: {0: 0, 2: 4, 4: 16, 6: 36, 8: 64}\n"
     ]
    }
   ],
   "source": [
    "# Conditional comprehensions(if)\n",
    "even_squares_dict = {x: x**2 for x in range(10)if x % 2 == 0}\n",
    "print(\"Even Squares Dictionary:\", even_squares_dict)"
   ]
  },
  {
   "cell_type": "code",
   "execution_count": 5,
   "metadata": {},
   "outputs": [
    {
     "name": "stdout",
     "output_type": "stream",
     "text": [
      "Nested Dictionary: {0: {0: 0, 1: 1, 2: 4, 3: 9, 4: 16}, 1: {0: 0, 1: 1, 2: 4, 3: 9, 4: 16}, 2: {0: 0, 1: 1, 2: 4, 3: 9, 4: 16}}\n"
     ]
    }
   ],
   "source": [
    "# Nested comprehensions\n",
    "nested_dict = {i: {j: j**2 for j in range(5)} for i in range(3)}\n",
    "print(\"Nested Dictionary:\", nested_dict)"
   ]
  },
  {
   "cell_type": "markdown",
   "metadata": {},
   "source": [
    "# List Operations"
   ]
  },
  {
   "cell_type": "code",
   "execution_count": 9,
   "metadata": {},
   "outputs": [
    {
     "name": "stdout",
     "output_type": "stream",
     "text": [
      "List: [10, 5, 8, 20]\n",
      "Length: 4\n",
      "Minimum: 5\n",
      "Maximum: 20\n",
      "Sum: 43\n",
      "Sorted List: [5, 8, 10, 20]\n",
      "Count of 5: 1\n",
      "Index of 20: 3\n",
      "\n"
     ]
    }
   ],
   "source": [
    "my_list = [10, 5, 8, 20]\n",
    "print(\"List:\", my_list)\n",
    "print(\"Length:\", len(my_list))\n",
    "print(\"Minimum:\", min(my_list))\n",
    "print(\"Maximum:\", max(my_list))\n",
    "print(\"Sum:\", sum(my_list))\n",
    "print(\"Sorted List:\", sorted(my_list))\n",
    "print(\"Count of 5:\", my_list.count(5))\n",
    "print(\"Index of 20:\", my_list.index(20))\n",
    "print()"
   ]
  },
  {
   "cell_type": "markdown",
   "metadata": {},
   "source": [
    "# Set Operations"
   ]
  },
  {
   "cell_type": "code",
   "execution_count": 10,
   "metadata": {},
   "outputs": [
    {
     "name": "stdout",
     "output_type": "stream",
     "text": [
      "Set: {10, 20, 5, 30}\n",
      "Length: 4\n",
      "Minimum: 5\n",
      "Maximum: 30\n",
      "Sum: 65\n",
      "Sorted Set: [5, 10, 20, 30]\n",
      "\n"
     ]
    }
   ],
   "source": [
    "my_set = {10, 5, 30, 20}\n",
    "print(\"Set:\", my_set)\n",
    "print(\"Length:\", len(my_set))\n",
    "print(\"Minimum:\", min(my_set))\n",
    "print(\"Maximum:\", max(my_set))\n",
    "print(\"Sum:\", sum(my_set))\n",
    "print(\"Sorted Set:\", sorted(my_set))\n",
    "print()\n"
   ]
  },
  {
   "cell_type": "markdown",
   "metadata": {},
   "source": [
    "# Dictionary Operation"
   ]
  },
  {
   "cell_type": "code",
   "execution_count": 12,
   "metadata": {},
   "outputs": [
    {
     "name": "stdout",
     "output_type": "stream",
     "text": [
      "Dictionary: {'a': 10, 'b': 5, 'c': 30, 'd': 20}\n",
      "Length: 4\n",
      "Keys: dict_keys(['a', 'b', 'c', 'd'])\n",
      "Values: dict_values([10, 5, 30, 20])\n",
      "Minimum Key: a\n",
      "Maximum Key: d\n",
      "Minimum Value: 5\n",
      "Maximum Value: 30\n",
      "Sum of Values: 65\n",
      "Sorted Keys: ['a', 'b', 'c', 'd']\n",
      "Sorted Values: [5, 10, 20, 30]\n"
     ]
    }
   ],
   "source": [
    "my_dict = {\"a\": 10, \"b\": 5, \"c\": 30, \"d\": 20}\n",
    "print(\"Dictionary:\", my_dict)\n",
    "print(\"Length:\", len(my_dict))  \n",
    "print(\"Keys:\", my_dict.keys())  \n",
    "print(\"Values:\", my_dict.values()) \n",
    "print(\"Minimum Key:\", min(my_dict))\n",
    "print(\"Maximum Key:\", max(my_dict))  \n",
    "print(\"Minimum Value:\", min(my_dict.values()))  \n",
    "print(\"Maximum Value:\", max(my_dict.values()))  \n",
    "print(\"Sum of Values:\", sum(my_dict.values()))  \n",
    "print(\"Sorted Keys:\", sorted(my_dict))  \n",
    "print(\"Sorted Values:\", sorted(my_dict.values())) "
   ]
  },
  {
   "cell_type": "code",
   "execution_count": 15,
   "metadata": {},
   "outputs": [
    {
     "name": "stdout",
     "output_type": "stream",
     "text": [
      "Original List: [1, 2, 2, 3, 4, 4, 5]\n",
      "List after removing duplicates: [1, 2, 3, 4, 5]\n",
      "Frequency Counter: {1: 1, 2: 2, 3: 1, 4: 2, 5: 1}\n",
      "Merged Dictionary: {'a': 1, 'b': 2, 'c': 4}\n",
      "Sorted Dictionary by Values: {'b': 1, 'c': 2, 'a': 3}\n"
     ]
    }
   ],
   "source": [
    "def remove_duplicates(input_list):\n",
    "    return list(set(input_list))\n",
    "\n",
    "def frequency_counter(input_list):\n",
    "    freq_dict = {}\n",
    "    for item in input_list:\n",
    "        if item in freq_dict:\n",
    "            freq_dict[item] += 1\n",
    "        else:\n",
    "            freq_dict[item] = 1\n",
    "    return freq_dict\n",
    "\n",
    "def merge_dictionaries(dict1, dict2):\n",
    "    merged_dict = dict1.copy()\n",
    "    merged_dict.update(dict2)\n",
    "    return merged_dict\n",
    "\n",
    "def sort_dict_by_values(input_dict):\n",
    "    return dict(sorted(input_dict.items(), key=lambda item: item[1]))\n",
    "\n",
    "# Example usage\n",
    "if __name__ == \"__main__\":\n",
    "    example_list = [1, 2, 2, 3, 4, 4, 5]\n",
    "    \n",
    "    print(\"Original List:\", example_list)\n",
    "    print(\"List after removing duplicates:\", remove_duplicates(example_list))\n",
    "    \n",
    "    print(\"Frequency Counter:\", frequency_counter(example_list))\n",
    "    \n",
    "    dict1 = {'a': 1, 'b': 3}\n",
    "    dict2 = {'b': 2, 'c': 4}\n",
    "    \n",
    "    print(\"Merged Dictionary:\", merge_dictionaries(dict1, dict2))\n",
    "    \n",
    "    unsorted_dict = {'a': 3, 'b': 1, 'c': 2}\n",
    "    print(\"Sorted Dictionary by Values:\", sort_dict_by_values(unsorted_dict))"
   ]
  }
 ],
 "metadata": {
  "kernelspec": {
   "display_name": ".myenv",
   "language": "python",
   "name": "python3"
  },
  "language_info": {
   "codemirror_mode": {
    "name": "ipython",
    "version": 3
   },
   "file_extension": ".py",
   "mimetype": "text/x-python",
   "name": "python",
   "nbconvert_exporter": "python",
   "pygments_lexer": "ipython3",
   "version": "3.13.1"
  }
 },
 "nbformat": 4,
 "nbformat_minor": 2
}
