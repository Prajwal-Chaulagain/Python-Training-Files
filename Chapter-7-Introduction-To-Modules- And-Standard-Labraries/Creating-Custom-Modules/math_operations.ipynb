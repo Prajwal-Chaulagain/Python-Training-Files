{
 "cells": [
  {
   "cell_type": "code",
   "execution_count": 1,
   "metadata": {},
   "outputs": [],
   "source": [
    "import math\n",
    "\n",
    "def greet(name):\n",
    "    \"\"\"Returns a greeting message\"\"\"\n",
    "    return f\"Hello, {name}! Welcome to Python modules.\"\n",
    "\n",
    "def calculate_square(number):\n",
    "    \"\"\"Returns the square of a number\"\"\"\n",
    "    return number ** 2\n",
    "\n",
    "class MathOperations:\n",
    "    \"\"\"A class for basic math operations\"\"\"\n",
    "    def __init__(self):\n",
    "        self.pi = math.pi  # Using math module already imported\n",
    "        \n",
    "    def circle_area(self, radius):\n",
    "        \"\"\"Calculate the area of a circle\"\"\"\n",
    "        return self.pi * radius ** 2"
   ]
  },
  {
   "cell_type": "code",
   "execution_count": null,
   "metadata": {},
   "outputs": [],
   "source": []
  }
 ],
 "metadata": {
  "kernelspec": {
   "display_name": "Python 3",
   "language": "python",
   "name": "python3"
  },
  "language_info": {
   "codemirror_mode": {
    "name": "ipython",
    "version": 3
   },
   "file_extension": ".py",
   "mimetype": "text/x-python",
   "name": "python",
   "nbconvert_exporter": "python",
   "pygments_lexer": "ipython3",
   "version": "3.13.1"
  }
 },
 "nbformat": 4,
 "nbformat_minor": 2
}
