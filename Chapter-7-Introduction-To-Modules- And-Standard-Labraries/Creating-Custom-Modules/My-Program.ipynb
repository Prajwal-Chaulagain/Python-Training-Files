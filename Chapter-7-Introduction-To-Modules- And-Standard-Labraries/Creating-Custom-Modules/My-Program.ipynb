{
 "cells": [
  {
   "cell_type": "code",
   "execution_count": null,
   "metadata": {},
   "outputs": [],
   "source": [
    "from math_operations import greet, calculate_square, MathOperations\n",
    "\n",
    "\n",
    "print(greet(\"Programmer\"))\n",
    "print(f\"Square of 5: {calculate_square(5)}\")\n",
    "\n",
    "math_ops = MathOperations()\n",
    "print(f\"Area of circle with radius 3: {math_ops.circle_area(3):.2f}\")"
   ]
  }
 ],
 "metadata": {
  "kernelspec": {
   "display_name": "Python 3",
   "language": "python",
   "name": "python3"
  },
  "language_info": {
   "codemirror_mode": {
    "name": "ipython",
    "version": 3
   },
   "file_extension": ".py",
   "mimetype": "text/x-python",
   "name": "python",
   "nbconvert_exporter": "python",
   "pygments_lexer": "ipython3",
   "version": "3.13.1"
  }
 },
 "nbformat": 4,
 "nbformat_minor": 2
}
