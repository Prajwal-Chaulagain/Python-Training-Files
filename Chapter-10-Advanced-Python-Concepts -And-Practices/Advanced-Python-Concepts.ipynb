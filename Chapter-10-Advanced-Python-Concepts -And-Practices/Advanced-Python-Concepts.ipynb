{
 "cells": [
  {
   "cell_type": "markdown",
   "id": "18b24a51",
   "metadata": {},
   "source": [
    "# 🔰 Introduction\n",
    "Python is a high-level, interpreted, and dynamically typed programming language that emphasizes code readability and simplicity. Once the basic concepts are understood, learning advanced Python concepts becomes essential for efficient software development. These advanced topics help in writing optimized, reusable, and professional-quality code. This section covers the theory behind important advanced Python features and paradigms."
   ]
  },
  {
   "cell_type": "code",
   "execution_count": 1,
   "id": "89232af4",
   "metadata": {},
   "outputs": [
    {
     "name": "stdout",
     "output_type": "stream",
     "text": [
      "An error occurred: login_required.<locals>.wrapper() got multiple values for argument 'user'\n"
     ]
    }
   ],
   "source": [
    "# Decorator to check for login\n",
    "def login_required(func):\n",
    "    def wrapper(user):\n",
    "        if user.get(\"logged_in\", False):\n",
    "            return func(user)\n",
    "        else:\n",
    "            print(\"Access denied. Please log in.\")\n",
    "    return wrapper\n",
    "\n",
    "# Base class\n",
    "class User:\n",
    "    def __init__(self, name: str, age: int):\n",
    "        self.name = name\n",
    "        self.age = age\n",
    "\n",
    "    def greet(self):\n",
    "        print(f\"Hello, {self.name}!\")\n",
    "\n",
    "# Inherited class\n",
    "class Admin(User):\n",
    "    @login_required\n",
    "    def access_panel(self):\n",
    "        print(f\"Welcome to the admin panel, {self.name}!\")\n",
    "\n",
    "try:\n",
    "    # List comprehension + lambda to filter adults\n",
    "    users = [\n",
    "        {\"name\": \"Alice\", \"age\": 25, \"logged_in\": True},\n",
    "        {\"name\": \"Bob\", \"age\": 16, \"logged_in\": False},\n",
    "    ]\n",
    "    adults = list(filter(lambda u: u[\"age\"] >= 18, users))\n",
    "\n",
    "    for u in adults:\n",
    "        admin = Admin(u[\"name\"], u[\"age\"])\n",
    "        admin.access_panel(user=u)\n",
    "\n",
    "except Exception as e:\n",
    "    print(\"An error occurred:\", e)\n"
   ]
  }
 ],
 "metadata": {
  "kernelspec": {
   "display_name": ".myenv",
   "language": "python",
   "name": "python3"
  },
  "language_info": {
   "codemirror_mode": {
    "name": "ipython",
    "version": 3
   },
   "file_extension": ".py",
   "mimetype": "text/x-python",
   "name": "python",
   "nbconvert_exporter": "python",
   "pygments_lexer": "ipython3",
   "version": "3.13.1"
  }
 },
 "nbformat": 4,
 "nbformat_minor": 5
}
