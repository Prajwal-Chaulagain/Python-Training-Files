{
 "cells": [
  {
   "cell_type": "markdown",
   "metadata": {},
   "source": [
    "Syntax"
   ]
  },
  {
   "cell_type": "code",
   "execution_count": 3,
   "metadata": {},
   "outputs": [
    {
     "data": {
      "text/plain": [
       "0.5"
      ]
     },
     "execution_count": 3,
     "metadata": {},
     "output_type": "execute_result"
    }
   ],
   "source": [
    "a = 1\n",
    "b = 2\n",
    "a + b\n",
    "a / b"
   ]
  },
  {
   "cell_type": "code",
   "execution_count": 1,
   "metadata": {},
   "outputs": [
    {
     "name": "stdout",
     "output_type": "stream",
     "text": [
      "A is greater than B!\n"
     ]
    }
   ],
   "source": [
    "# Indentation\n",
    "a = 30\n",
    "b = 20\n",
    "if a > b:\n",
    "    print(\"A is greater than B!\")\n",
    "else:\n",
    "    print(\"B is greater than A!\")"
   ]
  },
  {
   "cell_type": "code",
   "execution_count": 1,
   "metadata": {},
   "outputs": [
    {
     "name": "stdout",
     "output_type": "stream",
     "text": [
      "150000\n"
     ]
    }
   ],
   "source": [
    "# Case sensitive\n",
    "salary = 100000\n",
    "Salary = 150000\n",
    "SALARY = 200000\n",
    "print(Salary)"
   ]
  },
  {
   "cell_type": "code",
   "execution_count": 2,
   "metadata": {},
   "outputs": [
    {
     "name": "stdout",
     "output_type": "stream",
     "text": [
      "True\n"
     ]
    }
   ],
   "source": [
    "name = \"Prajwal\"\n",
    "Name = \"Prajwal\"\n",
    "NAME = \"Prajwal\"\n",
    "print(name == Name == NAME)"
   ]
  },
  {
   "cell_type": "code",
   "execution_count": 3,
   "metadata": {},
   "outputs": [
    {
     "data": {
      "text/plain": [
       "'\\nthis is also a multiline comment\\n'"
      ]
     },
     "execution_count": 3,
     "metadata": {},
     "output_type": "execute_result"
    }
   ],
   "source": [
    "# Comments\n",
    "\n",
    "# this is a comment\n",
    "\n",
    "'''\n",
    "this is multiline comment\n",
    "'''\n",
    "\"\"\"\n",
    "this is also a multiline comment\n",
    "\"\"\""
   ]
  },
  {
   "cell_type": "code",
   "execution_count": 4,
   "metadata": {},
   "outputs": [
    {
     "name": "stdout",
     "output_type": "stream",
     "text": [
      "The elements a + b\n"
     ]
    }
   ],
   "source": [
    "a = 1000\n",
    "b = 2000\n",
    "print(\"The elements a + b\")"
   ]
  },
  {
   "cell_type": "code",
   "execution_count": 7,
   "metadata": {},
   "outputs": [
    {
     "name": "stdout",
     "output_type": "stream",
     "text": [
      "Prajwal Chaulagain\n"
     ]
    }
   ],
   "source": [
    "# Statement\n",
    "\n",
    "first_name = \"Prajwal\"\n",
    "last_name = \"Chaulagain\"\n",
    "print(first_name + \" \" + last_name)"
   ]
  },
  {
   "cell_type": "code",
   "execution_count": 8,
   "metadata": {},
   "outputs": [
    {
     "name": "stdout",
     "output_type": "stream",
     "text": [
      "Prajwal Chaulagain\n"
     ]
    }
   ],
   "source": [
    "# This is not recommended\n",
    "\n",
    "first_name = \"Prajwal\"; last_name = \"Chaulagain\"; print(first_name + \" \" + last_name)"
   ]
  },
  {
   "cell_type": "code",
   "execution_count": 3,
   "metadata": {},
   "outputs": [
    {
     "name": "stdout",
     "output_type": "stream",
     "text": [
      "Hello Prajwal\n"
     ]
    }
   ],
   "source": [
    "# Input from user\n",
    "\n",
    "name = input(\"Enter your name:\")\n",
    "#printing output\n",
    "\n",
    "print(\"Hello \" + name)"
   ]
  },
  {
   "cell_type": "code",
   "execution_count": 4,
   "metadata": {},
   "outputs": [
    {
     "data": {
      "text/plain": [
       "15"
      ]
     },
     "execution_count": 4,
     "metadata": {},
     "output_type": "execute_result"
    }
   ],
   "source": [
    "# Numeric valaues\n",
    "x = 10\n",
    "y = 5\n",
    "z = x + y\n",
    "z"
   ]
  },
  {
   "cell_type": "code",
   "execution_count": 7,
   "metadata": {},
   "outputs": [
    {
     "name": "stdout",
     "output_type": "stream",
     "text": [
      "Vedas college. lalitpur, Nepal\n"
     ]
    }
   ],
   "source": [
    "# String values\n",
    "college_name = \"Vedas college\"\n",
    "address_name = \"lalitpur, Nepal\"\n",
    "college = college_name +  \". \" + address_name\n",
    "print(college)"
   ]
  },
  {
   "cell_type": "code",
   "execution_count": 12,
   "metadata": {},
   "outputs": [
    {
     "name": "stdout",
     "output_type": "stream",
     "text": [
      "Computer Science\n",
      "Physics\n"
     ]
    }
   ],
   "source": [
    "# Dymanic Binding : Changing the value of variable\n",
    "subject = \"Computer Science\"\n",
    "print(subject)\n",
    "subject = \"Physics\"\n",
    "print(subject)"
   ]
  },
  {
   "cell_type": "code",
   "execution_count": 8,
   "metadata": {},
   "outputs": [
    {
     "name": "stdout",
     "output_type": "stream",
     "text": [
      "Prajwal\n",
      "Anil\n",
      "Bibek\n"
     ]
    }
   ],
   "source": [
    "A,B,C = \"Prajwal\", \"Anil\", \"Bibek\"\n",
    "print(A)\n",
    "print(B)\n",
    "print(C)"
   ]
  },
  {
   "cell_type": "code",
   "execution_count": 9,
   "metadata": {},
   "outputs": [
    {
     "name": "stdout",
     "output_type": "stream",
     "text": [
      "Prajwal\n",
      "Prajwal\n",
      "Prajwal\n"
     ]
    }
   ],
   "source": [
    "A = B = C = \"Prajwal\"\n",
    "print(A)\n",
    "print(B)\n",
    "print(C)"
   ]
  },
  {
   "cell_type": "code",
   "execution_count": 11,
   "metadata": {},
   "outputs": [
    {
     "name": "stdout",
     "output_type": "stream",
     "text": [
      "Computer\n",
      "Monitor\n"
     ]
    }
   ],
   "source": [
    "# Variable name\n",
    "first_var = \"Prajwal\"\n",
    "firstVar = \"Chaulagain\"\n",
    "second_var = \"Computer\"\n",
    "second_Var = \"Monitor\"\n",
    "print(second_var)\n",
    "print(second_Var)"
   ]
  },
  {
   "cell_type": "markdown",
   "metadata": {},
   "source": [
    "Data Type"
   ]
  },
  {
   "cell_type": "code",
   "execution_count": 13,
   "metadata": {},
   "outputs": [
    {
     "name": "stdout",
     "output_type": "stream",
     "text": [
      "Data type of num1 is <class 'int'>\n",
      "Data type of num2 is <class 'float'>\n",
      "Data type of num3 is <class 'complex'>\n"
     ]
    }
   ],
   "source": [
    "# Numeric Data types\n",
    "num1 = 5\n",
    "num2 = 3.14\n",
    "num3 = 5j+5\n",
    "print(\"Data type of num1 is\", type(num1))\n",
    "print(\"Data type of num2 is\", type(num2))\n",
    "print(\"Data type of num3 is\", type(num3))"
   ]
  },
  {
   "cell_type": "code",
   "execution_count": 14,
   "metadata": {},
   "outputs": [
    {
     "name": "stdout",
     "output_type": "stream",
     "text": [
      "Data type of name is <class 'str'>\n"
     ]
    }
   ],
   "source": [
    "# String data type\n",
    "\n",
    "name = \"Prajwal Chaulagain\"\n",
    "\n",
    "print(\"Data type of name is\", type(name))"
   ]
  },
  {
   "cell_type": "code",
   "execution_count": 16,
   "metadata": {},
   "outputs": [
    {
     "name": "stdout",
     "output_type": "stream",
     "text": [
      "Data type of value is <class 'int'>\n"
     ]
    }
   ],
   "source": [
    "# Value data type\n",
    "value = 10\n",
    "\n",
    "print(\"Data type of value is\", type(value))"
   ]
  },
  {
   "cell_type": "code",
   "execution_count": 17,
   "metadata": {},
   "outputs": [
    {
     "name": "stdout",
     "output_type": "stream",
     "text": [
      "Artifical Intelligence\n",
      "Machine Learning\n",
      "Artifical Intelligence concatenated with Artifical Intelligence\n",
      "Artifical Intelligence concated with Machine Learning\n"
     ]
    }
   ],
   "source": [
    "A = \"Artifical Intelligence\"\n",
    "B = \"Machine Learning\"\n",
    "print(A)\n",
    "print(B)\n",
    "\n",
    "# Using ',' to concatenate the two or more strings\n",
    "print(A,\"concatenated with\",A)\n",
    "\n",
    "# Using '+' to concate the two or more strings\n",
    "print(A+\" concated with \"+B)"
   ]
  },
  {
   "cell_type": "code",
   "execution_count": 24,
   "metadata": {},
   "outputs": [
    {
     "name": "stdout",
     "output_type": "stream",
     "text": [
      "Data type of programing_language is <class 'list'>\n"
     ]
    }
   ],
   "source": [
    "# List Data type\n",
    "programing_language = [\"Python\", \"Java\", \"C++\", \"C#\"]\n",
    "print(\"Data type of programing_language is\", type(programing_language))"
   ]
  },
  {
   "cell_type": "code",
   "execution_count": 25,
   "metadata": {},
   "outputs": [
    {
     "data": {
      "text/plain": [
       "'Python'"
      ]
     },
     "execution_count": 25,
     "metadata": {},
     "output_type": "execute_result"
    }
   ],
   "source": [
    "programing_language[0]"
   ]
  },
  {
   "cell_type": "code",
   "execution_count": 77,
   "metadata": {},
   "outputs": [
    {
     "name": "stdout",
     "output_type": "stream",
     "text": [
      "Data type of x is <class 'range'>\n"
     ]
    }
   ],
   "source": [
    "# Range data type\n",
    "x = range(5)\n",
    "print(\"Data type of x is\", type(x))"
   ]
  },
  {
   "cell_type": "code",
   "execution_count": 30,
   "metadata": {},
   "outputs": [
    {
     "name": "stdout",
     "output_type": "stream",
     "text": [
      "Data type of fruits is <class 'tuple'>\n",
      "Apple\n"
     ]
    }
   ],
   "source": [
    "# Tuple Data type\n",
    "fruits = (\"Apple\", \"Banana\", \"Cherry\", \"Orange\")\n",
    "print(\"Data type of fruits is\", type(fruits))\n",
    "print(fruits[0])"
   ]
  },
  {
   "cell_type": "code",
   "execution_count": 28,
   "metadata": {},
   "outputs": [
    {
     "name": "stdout",
     "output_type": "stream",
     "text": [
      "Data type of colors is <class 'set'>\n"
     ]
    }
   ],
   "source": [
    "# Set Data type\n",
    "colors = {\"Red\", \"Green\", \"Blue\", \"Yellow\"}\n",
    "print(\"Data type of colors is\", type(colors))\n",
    "# colors[0] # set does not support indexing\n"
   ]
  },
  {
   "cell_type": "code",
   "execution_count": 32,
   "metadata": {},
   "outputs": [
    {
     "name": "stdout",
     "output_type": "stream",
     "text": [
      "Data type of person is <class 'dict'>\n",
      "Prajwal\n",
      "21\n",
      "Lalitpur\n"
     ]
    }
   ],
   "source": [
    "# Dictionary Data type\n",
    "person = {\n",
    "    \"name\": \"Prajwal\",\n",
    "    'age': 21,\n",
    "    'address': \"Lalitpur\"}\n",
    "print(\"Data type of person is\", type(person))\n",
    "print(person['name'])\n",
    "print(person['age'])\n",
    "print(person['address'])"
   ]
  },
  {
   "cell_type": "code",
   "execution_count": 76,
   "metadata": {},
   "outputs": [
    {
     "name": "stdout",
     "output_type": "stream",
     "text": [
      "Data type of x is <class 'bool'>\n"
     ]
    }
   ],
   "source": [
    "# Boolean data type\n",
    "x = True\n",
    "print(\"Data type of x is\", type(x))"
   ]
  },
  {
   "cell_type": "markdown",
   "metadata": {},
   "source": [
    "Lets understand the fundamental a bit more deeply"
   ]
  },
  {
   "cell_type": "code",
   "execution_count": 37,
   "metadata": {},
   "outputs": [
    {
     "name": "stdout",
     "output_type": "stream",
     "text": [
      "False\n"
     ]
    }
   ],
   "source": [
    "# Unlike other programming languages, python automatically checks value eauality \n",
    "a = \"10\"\n",
    "b = 10\n",
    "print(a == b)"
   ]
  },
  {
   "cell_type": "code",
   "execution_count": 38,
   "metadata": {},
   "outputs": [
    {
     "name": "stdout",
     "output_type": "stream",
     "text": [
      "<class 'str'>\n",
      "3\n",
      "<class 'int'>\n",
      "3.0\n",
      "<class 'float'>\n"
     ]
    }
   ],
   "source": [
    "# Type Conversion\n",
    "a = \"3.14\"\n",
    "# b = int(a)\n",
    "# If you want to convert the floating-point string '3.14' into an integer, you should first convert it to a float and then to an integer.\n",
    "b = int(float(a))\n",
    "c = float(b)\n",
    "\n",
    "print(type(a))\n",
    "print(b)\n",
    "print(type(b))\n",
    "print(c)\n",
    "print(type(c))"
   ]
  },
  {
   "cell_type": "markdown",
   "metadata": {},
   "source": [
    "Mutable Vs Immutable"
   ]
  },
  {
   "cell_type": "code",
   "execution_count": 41,
   "metadata": {},
   "outputs": [
    {
     "name": "stdout",
     "output_type": "stream",
     "text": [
      "[10, 2, 3, 5]\n"
     ]
    }
   ],
   "source": [
    "# List is mutable\n",
    "my_list = [1, 2, 3]\n",
    "my_list[0] = 10  \n",
    "\n",
    "my_list.append(5)\n",
    "\n",
    "print(my_list)  "
   ]
  },
  {
   "cell_type": "code",
   "execution_count": 44,
   "metadata": {},
   "outputs": [
    {
     "ename": "TypeError",
     "evalue": "'tuple' object does not support item assignment",
     "output_type": "error",
     "traceback": [
      "\u001b[1;31m---------------------------------------------------------------------------\u001b[0m",
      "\u001b[1;31mTypeError\u001b[0m                                 Traceback (most recent call last)",
      "Cell \u001b[1;32mIn[44], line 3\u001b[0m\n\u001b[0;32m      1\u001b[0m \u001b[38;5;66;03m# Tuple is immutable\u001b[39;00m\n\u001b[0;32m      2\u001b[0m my_tuple \u001b[38;5;241m=\u001b[39m (\u001b[38;5;241m1\u001b[39m, \u001b[38;5;241m2\u001b[39m, \u001b[38;5;241m3\u001b[39m)\n\u001b[1;32m----> 3\u001b[0m \u001b[43mmy_tuple\u001b[49m\u001b[43m[\u001b[49m\u001b[38;5;241;43m0\u001b[39;49m\u001b[43m]\u001b[49m \u001b[38;5;241m=\u001b[39m \u001b[38;5;241m10\u001b[39m\n",
      "\u001b[1;31mTypeError\u001b[0m: 'tuple' object does not support item assignment"
     ]
    }
   ],
   "source": [
    "# Tuple is immutable\n",
    "my_tuple = (1, 2, 3)\n",
    "my_tuple[0] = 10"
   ]
  },
  {
   "cell_type": "code",
   "execution_count": 50,
   "metadata": {},
   "outputs": [
    {
     "name": "stdout",
     "output_type": "stream",
     "text": [
      "{1, 2, 3, 4, 5}\n"
     ]
    }
   ],
   "source": [
    "# Set is mutable\n",
    "my_set = {1, 2, 3}\n",
    "my_set.add(4)\n",
    "my_set.add(5)\n",
    "print(my_set)"
   ]
  },
  {
   "cell_type": "code",
   "execution_count": 51,
   "metadata": {},
   "outputs": [
    {
     "name": "stdout",
     "output_type": "stream",
     "text": [
      "{'name': 'Prajwal', 'age': 21}\n"
     ]
    }
   ],
   "source": [
    "# Dictionary is mutable\n",
    "my_dict = {\"name\": \"Prajwal Chaulagain\", \"age\": 21}\n",
    "my_dict[\"name\"] = \"Prajwal\"\n",
    "print(my_dict)"
   ]
  },
  {
   "cell_type": "code",
   "execution_count": 54,
   "metadata": {},
   "outputs": [
    {
     "ename": "TypeError",
     "evalue": "'str' object does not support item assignment",
     "output_type": "error",
     "traceback": [
      "\u001b[1;31m---------------------------------------------------------------------------\u001b[0m",
      "\u001b[1;31mTypeError\u001b[0m                                 Traceback (most recent call last)",
      "Cell \u001b[1;32mIn[54], line 3\u001b[0m\n\u001b[0;32m      1\u001b[0m \u001b[38;5;66;03m# Strig is immutable\u001b[39;00m\n\u001b[0;32m      2\u001b[0m my_string \u001b[38;5;241m=\u001b[39m \u001b[38;5;124m\"\u001b[39m\u001b[38;5;124mPython\u001b[39m\u001b[38;5;124m\"\u001b[39m\n\u001b[1;32m----> 3\u001b[0m \u001b[43mmy_string\u001b[49m\u001b[43m[\u001b[49m\u001b[38;5;241;43m0\u001b[39;49m\u001b[43m]\u001b[49m \u001b[38;5;241m=\u001b[39m \u001b[38;5;124m\"\u001b[39m\u001b[38;5;124mJ\u001b[39m\u001b[38;5;124m\"\u001b[39m\n",
      "\u001b[1;31mTypeError\u001b[0m: 'str' object does not support item assignment"
     ]
    }
   ],
   "source": [
    "# Strig is immutable\n",
    "my_string = \"Python\"\n",
    "my_string[0] = \"J\""
   ]
  },
  {
   "cell_type": "code",
   "execution_count": 56,
   "metadata": {},
   "outputs": [
    {
     "name": "stdout",
     "output_type": "stream",
     "text": [
      "Jython\n",
      "Python\n"
     ]
    }
   ],
   "source": [
    "# Howeer, you can concatenate strings to create a new string\n",
    "my_string = \"Python\"\n",
    "new_string = \"J\" + my_string[1:]\n",
    "print(new_string)\n",
    "print(my_string)"
   ]
  },
  {
   "cell_type": "code",
   "execution_count": 61,
   "metadata": {},
   "outputs": [
    {
     "name": "stdout",
     "output_type": "stream",
     "text": [
      "[100, 10, 15, 20]\n",
      "[100, 10, 15, 20, 25]\n",
      "[100, 10, 8, 15, 20, 25]\n",
      "[100, 10, 8, 15, 25]\n",
      "[100, 8, 15, 25]\n",
      "[100, 8, 15, 25, 6, 7, 6, 7]\n"
     ]
    }
   ],
   "source": [
    "my_list = [5, 10, 15,20]\n",
    "my_list[0] = 100\n",
    "print(my_list)\n",
    "my_list.append(25)\n",
    "print(my_list)\n",
    "my_list.insert(2, 8)\n",
    "print(my_list)\n",
    "my_list.remove(20)\n",
    "print(my_list)\n",
    "my_list.pop(1)\n",
    "print(my_list)\n",
    "my_list.extend([6, 7, 6, 7])\n",
    "\n",
    "#my_list.clear()\n",
    "print(my_list)"
   ]
  },
  {
   "cell_type": "code",
   "execution_count": 58,
   "metadata": {},
   "outputs": [
    {
     "name": "stdout",
     "output_type": "stream",
     "text": [
      "[6, 6, 7, 7, 8, 15, 25, 100]\n"
     ]
    }
   ],
   "source": [
    "my_list.count(7)\n",
    "my_list.index(6)\n",
    "my_list.sort()\n",
    "#my_list.sort(reverse=True)\n",
    "print(my_list)"
   ]
  },
  {
   "cell_type": "markdown",
   "metadata": {},
   "source": [
    "List comprehension"
   ]
  },
  {
   "cell_type": "code",
   "execution_count": 67,
   "metadata": {},
   "outputs": [
    {
     "data": {
      "text/plain": [
       "[10000, 64, 225, 625, 36, 49, 36, 49]"
      ]
     },
     "execution_count": 67,
     "metadata": {},
     "output_type": "execute_result"
    }
   ],
   "source": [
    "my_squared_list = [x**2 for x in my_list] \n",
    "#my_squared_list = [x**3 for x in my_list] \n",
    "my_squared_list"
   ]
  },
  {
   "cell_type": "code",
   "execution_count": 68,
   "metadata": {},
   "outputs": [
    {
     "name": "stdout",
     "output_type": "stream",
     "text": [
      "[(1, 4), (1, 5), (1, 6), (2, 4), (2, 5), (2, 6), (3, 4), (3, 5), (3, 6)]\n"
     ]
    }
   ],
   "source": [
    "pairs = [(i, j) for i in range(1, 4) for j in range(4, 7)]\n",
    "print(pairs) "
   ]
  },
  {
   "cell_type": "code",
   "execution_count": 69,
   "metadata": {},
   "outputs": [
    {
     "name": "stdout",
     "output_type": "stream",
     "text": [
      "[1, 2, 3, 4, 5, 6, 7, 8, 9]\n"
     ]
    }
   ],
   "source": [
    "matrix = [[1, 2, 3], [4, 5], [6, 7, 8, 9]]\n",
    "flattened = [item for row in matrix for item in row]\n",
    "print(flattened)  "
   ]
  },
  {
   "cell_type": "code",
   "execution_count": 72,
   "metadata": {},
   "outputs": [
    {
     "name": "stdout",
     "output_type": "stream",
     "text": [
      "{0, 1, 2, 3}\n"
     ]
    }
   ],
   "source": [
    "# Similar for to sets\n",
    "numbers = [1, 2, 3, 4, 5, 6, 7, 8, 9]\n",
    "remainders = {x % 4 for x in numbers}\n",
    "print(remainders)  "
   ]
  },
  {
   "cell_type": "code",
   "execution_count": 73,
   "metadata": {},
   "outputs": [
    {
     "name": "stdout",
     "output_type": "stream",
     "text": [
      "{1: 'a', 2: 'b', 3: 'c'}\n"
     ]
    }
   ],
   "source": [
    "original = {'a': 1, 'b': 2, 'c': 3}\n",
    "swapped = {value: key for key, value in original.items()}\n",
    "print(swapped)"
   ]
  },
  {
   "cell_type": "code",
   "execution_count": 75,
   "metadata": {},
   "outputs": [
    {
     "name": "stdout",
     "output_type": "stream",
     "text": [
      "Unique words: {'python', 'and', 'fun', 'powerful', 'is'}\n"
     ]
    }
   ],
   "source": [
    "# Code to find unique words\n",
    "sentence = \"Python is fun and Python is powerful\"\n",
    "unique_words = {word.lower() for word in sentence.split()}\n",
    "print(\"Unique words:\", unique_words)"
   ]
  }
 ],
 "metadata": {
  "kernelspec": {
   "display_name": ".myenv",
   "language": "python",
   "name": "python3"
  },
  "language_info": {
   "codemirror_mode": {
    "name": "ipython",
    "version": 3
   },
   "file_extension": ".py",
   "mimetype": "text/x-python",
   "name": "python",
   "nbconvert_exporter": "python",
   "pygments_lexer": "ipython3",
   "version": "3.13.1"
  }
 },
 "nbformat": 4,
 "nbformat_minor": 2
}
