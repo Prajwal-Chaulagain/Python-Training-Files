{
 "cells": [
  {
   "cell_type": "markdown",
   "metadata": {},
   "source": [
    "### Utilize all the concepts you learned from chapter 1.\n",
    "\n",
    "#### Feel free to edit and add the tasks.\n"
   ]
  },
  {
   "cell_type": "markdown",
   "metadata": {},
   "source": [
    "##### Q1. Write a code demonstrating the sum of two numbers.\n"
   ]
  },
  {
   "cell_type": "code",
   "execution_count": 1,
   "metadata": {},
   "outputs": [
    {
     "name": "stdout",
     "output_type": "stream",
     "text": [
      "150\n"
     ]
    }
   ],
   "source": [
    "# Write your code here.\n",
    "a = 100\n",
    "b = 50\n",
    "print(a + b)"
   ]
  },
  {
   "cell_type": "markdown",
   "metadata": {},
   "source": [
    "##### Q2. Define few variables and print their types.\n"
   ]
  },
  {
   "cell_type": "code",
   "execution_count": 2,
   "metadata": {},
   "outputs": [
    {
     "name": "stdout",
     "output_type": "stream",
     "text": [
      "Type of a is <class 'int'>\n",
      "Type of b is <class 'float'>\n",
      "Type of c is <class 'complex'>\n"
     ]
    }
   ],
   "source": [
    "# Write your code here.\n",
    "a = 10\n",
    "b = 10.5\n",
    "c = 10j\n",
    "print(\"Type of a is\", type(a))\n",
    "print(\"Type of b is\", type(b))\n",
    "print(\"Type of c is\", type(c))"
   ]
  },
  {
   "cell_type": "markdown",
   "metadata": {},
   "source": [
    "##### Q3. Write a code defining a list and accessing it's elements.\n"
   ]
  },
  {
   "cell_type": "code",
   "execution_count": 3,
   "metadata": {},
   "outputs": [
    {
     "name": "stdout",
     "output_type": "stream",
     "text": [
      "6\n",
      "[3, 4, 5, 6]\n"
     ]
    }
   ],
   "source": [
    "# Write your code here.\n",
    "my_list = [1, 2, 3, 4, 5, 6, 7, 8, 9, 10]\n",
    "print(my_list[5])\n",
    "print(my_list[2:6])\n"
   ]
  },
  {
   "cell_type": "markdown",
   "metadata": {},
   "source": [
    "##### Q5. Write a code to convert a string to an integer. ( Hint: Take a number as an input )\n"
   ]
  },
  {
   "cell_type": "code",
   "execution_count": 5,
   "metadata": {},
   "outputs": [
    {
     "name": "stdout",
     "output_type": "stream",
     "text": [
      "<class 'int'>\n"
     ]
    }
   ],
   "source": [
    "# Write your code here.\n",
    "a = input(\"Enter a number:\")\n",
    "b = float(a)\n",
    "c = int(b)\n",
    "print(type(c))\n"
   ]
  },
  {
   "cell_type": "markdown",
   "metadata": {},
   "source": [
    "##### Q6. Take two string inputs, and concatenate them.\n"
   ]
  },
  {
   "cell_type": "code",
   "execution_count": 7,
   "metadata": {},
   "outputs": [
    {
     "name": "stdout",
     "output_type": "stream",
     "text": [
      "The concatenated string is Prajwal  Chaulagain\n"
     ]
    }
   ],
   "source": [
    "# Write your code here.\n",
    "a = input(\"Enter first string:\")\n",
    "b = input(\"Enter second string:\")\n",
    "c = a + b\n",
    "print(\"The concatenated string is\", c)\n"
   ]
  },
  {
   "cell_type": "markdown",
   "metadata": {},
   "source": [
    "##### Q7. Create dictionary defining an object and access its values.\n"
   ]
  },
  {
   "cell_type": "code",
   "execution_count": 9,
   "metadata": {},
   "outputs": [
    {
     "name": "stdout",
     "output_type": "stream",
     "text": [
      "Prajwal\n",
      "21\n",
      "Lalitpur\n"
     ]
    }
   ],
   "source": [
    "# Write your code here.\n",
    "my_dict = {\"Name\":\"Prajwal\", \"Age\":21, \"Address\":\"Lalitpur\"}\n",
    "print(my_dict[\"Name\"])\n",
    "print(my_dict[\"Age\"])\n",
    "print(my_dict[\"Address\"])\n"
   ]
  },
  {
   "cell_type": "markdown",
   "metadata": {},
   "source": [
    "##### Q8. Write a code that demonstrates the use of floating point numbers and arithmetic operations.\n"
   ]
  },
  {
   "cell_type": "code",
   "execution_count": 10,
   "metadata": {},
   "outputs": [
    {
     "name": "stdout",
     "output_type": "stream",
     "text": [
      "Addition: 31.0\n",
      "Subtraction: -10.0\n",
      "Multiplication: 215.25\n",
      "Division: 0.5121951219512195\n",
      "Exponentiation: 8.597667211360811e+20\n"
     ]
    }
   ],
   "source": [
    "# Write your code here.\n",
    "num1 = 10.5\n",
    "num2 = 20.5\n",
    "print(\"Addition:\", num1 + num2)\n",
    "print(\"Subtraction:\", num1 - num2)\n",
    "print(\"Multiplication:\", num1 * num2)\n",
    "print(\"Division:\", num1 / num2)\n",
    "print(\"Exponentiation:\", num1 ** num2)\n"
   ]
  },
  {
   "cell_type": "markdown",
   "metadata": {},
   "source": [
    "#### Q9. Write a code to demonstrate the difference between mutable and immutable types.\n"
   ]
  },
  {
   "cell_type": "code",
   "execution_count": 11,
   "metadata": {},
   "outputs": [
    {
     "name": "stdout",
     "output_type": "stream",
     "text": [
      "[1, 2, 3, 4, 5, 6, 7, 8, 9, 10]\n",
      "[10, 2, 3, 4, 5, 6, 7, 8, 9, 10, 11]\n"
     ]
    },
    {
     "ename": "TypeError",
     "evalue": "'set' object does not support item assignment",
     "output_type": "error",
     "traceback": [
      "\u001b[1;31m---------------------------------------------------------------------------\u001b[0m",
      "\u001b[1;31mTypeError\u001b[0m                                 Traceback (most recent call last)",
      "Cell \u001b[1;32mIn[11], line 8\u001b[0m\n\u001b[0;32m      6\u001b[0m \u001b[38;5;28mprint\u001b[39m(my_list)\n\u001b[0;32m      7\u001b[0m my_tuple \u001b[38;5;241m=\u001b[39m {\u001b[38;5;241m10\u001b[39m, \u001b[38;5;241m20\u001b[39m, \u001b[38;5;241m30\u001b[39m, \u001b[38;5;241m40\u001b[39m, \u001b[38;5;241m50\u001b[39m, \u001b[38;5;241m60\u001b[39m, \u001b[38;5;241m70\u001b[39m, \u001b[38;5;241m80\u001b[39m, \u001b[38;5;241m90\u001b[39m,\u001b[38;5;241m100\u001b[39m}\n\u001b[1;32m----> 8\u001b[0m \u001b[43mmy_tuple\u001b[49m\u001b[43m[\u001b[49m\u001b[38;5;241;43m1\u001b[39;49m\u001b[43m]\u001b[49m \u001b[38;5;241m=\u001b[39m \u001b[38;5;241m25\u001b[39m\n",
      "\u001b[1;31mTypeError\u001b[0m: 'set' object does not support item assignment"
     ]
    }
   ],
   "source": [
    "# Write your code here.\n",
    "my_list = [1, 2, 3, 4, 5, 6, 7, 8, 9, 10]\n",
    "print(my_list)\n",
    "my_list[0] = 10\n",
    "my_list.append(11)\n",
    "print(my_list)\n",
    "my_tuple = {10, 20, 30, 40, 50, 60, 70, 80, 90,100}\n",
    "my_tuple[1] = 25"
   ]
  },
  {
   "cell_type": "markdown",
   "metadata": {},
   "source": [
    "### Q10. Write a simple program utilizing all the concepts you learned from chapter 1.\n"
   ]
  },
  {
   "cell_type": "code",
   "execution_count": 6,
   "metadata": {},
   "outputs": [
    {
     "name": "stdout",
     "output_type": "stream",
     "text": [
      "Your name is Prajwal Chaulagain\n",
      "Your age is  <class 'int'>  Type\n",
      "['Prajwal', 'Chaulagain']\n",
      "Sum is 30\n"
     ]
    }
   ],
   "source": [
    "# Write your code here.\n",
    "\n",
    "var1 = input(\"Enter your first name:\\n\")\n",
    "var2 = input(\"Enter your last name: \\n\")\n",
    "print(f\"Your name is {var1 + ' ' + var2}\")\n",
    "age = int(input(\"Enter your age:\\n\"))\n",
    "print(\"Your age is \", type(age),\" Type\")\n",
    "my_list = []\n",
    "my_list.append(var1)\n",
    "my_list.append(var2)\n",
    "print(my_list)\n",
    "a = int(input(\"Enter a number for addition: \"))\n",
    "b = int(input(\"Enter another number for addition: \"))\n",
    "print(f\"Sum is {a + b}\")\n"
   ]
  },
  {
   "cell_type": "markdown",
   "metadata": {},
   "source": [
    "# **Thank You !!!**\n"
   ]
  },
  {
   "cell_type": "markdown",
   "metadata": {},
   "source": []
  }
 ],
 "metadata": {
  "kernelspec": {
   "display_name": ".myenv",
   "language": "python",
   "name": "python3"
  },
  "language_info": {
   "codemirror_mode": {
    "name": "ipython",
    "version": 3
   },
   "file_extension": ".py",
   "mimetype": "text/x-python",
   "name": "python",
   "nbconvert_exporter": "python",
   "pygments_lexer": "ipython3",
   "version": "3.13.1"
  }
 },
 "nbformat": 4,
 "nbformat_minor": 2
}
