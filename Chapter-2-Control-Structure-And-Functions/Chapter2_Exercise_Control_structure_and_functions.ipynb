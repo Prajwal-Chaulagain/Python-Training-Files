{
 "cells": [
  {
   "cell_type": "markdown",
   "metadata": {
    "id": "0lhZuwTzS3pN"
   },
   "source": [
    "### Utilize all the concepts you learned from chapter 1 and 2.\n",
    "### Feel free to edit and add the tasks."
   ]
  },
  {
   "cell_type": "markdown",
   "metadata": {
    "id": "dlh01mQxS3pO"
   },
   "source": [
    "#### Q1. Write a program that checks if a number is positive, negative, or zero and prints the result.\n"
   ]
  },
  {
   "cell_type": "code",
   "execution_count": 3,
   "metadata": {
    "id": "-VTyMNXxS3pO"
   },
   "outputs": [
    {
     "name": "stdout",
     "output_type": "stream",
     "text": [
      "The number is negative:\n"
     ]
    }
   ],
   "source": [
    "# Write your code here.\n",
    "num = int(input(\"Enter a number:\"))\n",
    "if num > 0:\n",
    "    print(\"The number is positive:\")\n",
    "elif num < 0:\n",
    "    print(\"The number is negative:\")\n",
    "else:\n",
    "    print(\"The number is zero:\")"
   ]
  },
  {
   "cell_type": "markdown",
   "metadata": {
    "id": "HVPNKXuvS3pP"
   },
   "source": [
    "### Q2. Write a program that prints the first 10 numbers in the Fibonacci sequence.\n"
   ]
  },
  {
   "cell_type": "code",
   "execution_count": 8,
   "metadata": {
    "id": "r7EXiUlNS3pQ"
   },
   "outputs": [
    {
     "name": "stdout",
     "output_type": "stream",
     "text": [
      "[0, 1, 1, 2, 3, 5, 8, 13, 21, 34]\n"
     ]
    }
   ],
   "source": [
    "# Write your code here.\n",
    "def fibonacci(n):\n",
    "    sequence = [0, 1]\n",
    "    for i in range(n - 2):\n",
    "        sequence.append(sequence[-1] + sequence[-2])\n",
    "    return sequence\n",
    "\n",
    "print(fibonacci(10))\n"
   ]
  },
  {
   "cell_type": "markdown",
   "metadata": {
    "id": "615kABcgS3pQ"
   },
   "source": [
    "### Q3. Write a function that takes a list of numbers and returns the sum of the even numbers in the list.\n"
   ]
  },
  {
   "cell_type": "code",
   "execution_count": 12,
   "metadata": {
    "id": "hQuEo0VsS3pQ"
   },
   "outputs": [
    {
     "name": "stdout",
     "output_type": "stream",
     "text": [
      "6\n"
     ]
    }
   ],
   "source": [
    "# Write your code here.\n",
    "def sum_even_numbers(numbers):\n",
    "    even_sum = 0\n",
    "    for num in numbers:\n",
    "        if num % 2 == 0:\n",
    "            even_sum += num\n",
    "    return even_sum\n",
    "numbers = [1, 2, 3, 4, 5]\n",
    "print(sum_even_numbers(numbers))"
   ]
  },
  {
   "cell_type": "markdown",
   "metadata": {
    "id": "DT3IRru7S3pR"
   },
   "source": [
    "### Q4. Write a lambda function that takes two arguments and returns their product.\n"
   ]
  },
  {
   "cell_type": "code",
   "execution_count": 1,
   "metadata": {
    "id": "KpuZnqbzS3pR"
   },
   "outputs": [
    {
     "name": "stdout",
     "output_type": "stream",
     "text": [
      "8\n"
     ]
    }
   ],
   "source": [
    "# Write your code here.\n",
    "multiply = lambda x, y: x * y\n",
    "\n",
    "print(multiply(2, 4))"
   ]
  },
  {
   "cell_type": "markdown",
   "metadata": {
    "id": "mRvjJJrXS3pS"
   },
   "source": [
    "### Q5. Write a program that demonstrates the difference between local and global variables.\n"
   ]
  },
  {
   "cell_type": "code",
   "execution_count": 2,
   "metadata": {
    "id": "mXoEMqqtS3pS"
   },
   "outputs": [
    {
     "name": "stdout",
     "output_type": "stream",
     "text": [
      "Inside function:\n",
      "Local variable: 10\n",
      "Global variable inside function: 25\n",
      "\n",
      "Outside function:\n",
      "Global variable: 25\n"
     ]
    }
   ],
   "source": [
    "# Write your code here.\n",
    "global_var = 25\n",
    "\n",
    "\n",
    "def my_function():\n",
    "    local_var = 10\n",
    "    print(\"Inside function:\")\n",
    "    print(\"Local variable:\", local_var)\n",
    "    print(\"Global variable inside function:\", global_var)\n",
    "\n",
    "\n",
    "my_function()\n",
    "\n",
    "print(\"\\nOutside function:\")\n",
    "print(\"Global variable:\", global_var)"
   ]
  },
  {
   "cell_type": "markdown",
   "metadata": {
    "id": "9dFyymfYS3pS"
   },
   "source": [
    "### Q6. Complete the following function to calculate the factorial of a number using recursion.\n"
   ]
  },
  {
   "cell_type": "code",
   "execution_count": 4,
   "metadata": {
    "id": "ngjCZbuDS3pT"
   },
   "outputs": [
    {
     "data": {
      "text/plain": [
       "120"
      ]
     },
     "execution_count": 4,
     "metadata": {},
     "output_type": "execute_result"
    }
   ],
   "source": [
    "def factorial(n):\n",
    "    if n == 0:\n",
    "        return 1\n",
    "    else:\n",
    "        return n * factorial(n-1)\n",
    "\n",
    "\n",
    "factorial(5)"
   ]
  },
  {
   "cell_type": "markdown",
   "metadata": {
    "id": "wXjT5wBCS3pT"
   },
   "source": [
    "### Q7. Write a program that prints numbers from 1 to 10, but skips the number 5 using continue and stops the loop if the number is 8 using break.\n"
   ]
  },
  {
   "cell_type": "code",
   "execution_count": 6,
   "metadata": {
    "id": "h9DBaAH8S3pT"
   },
   "outputs": [
    {
     "name": "stdout",
     "output_type": "stream",
     "text": [
      "1\n",
      "2\n",
      "3\n",
      "4\n",
      "6\n",
      "7\n"
     ]
    }
   ],
   "source": [
    "# Write your code here.\n",
    "for i in range(1, 11):\n",
    "    if i == 5:\n",
    "        continue\n",
    "    elif i == 8:\n",
    "        break\n",
    "    print(i)\n",
    "\n"
   ]
  },
  {
   "cell_type": "markdown",
   "metadata": {
    "id": "0JYtkM6SS3pT"
   },
   "source": [
    "### Q8. Write a program that prints a multiplication table for numbers from 1 to 5. [ Using nested loop ]\n"
   ]
  },
  {
   "cell_type": "code",
   "execution_count": 7,
   "metadata": {
    "id": "xB4WeKdbS3pT"
   },
   "outputs": [
    {
     "name": "stdout",
     "output_type": "stream",
     "text": [
      "1 * 1 = 1\n",
      "1 * 2 = 2\n",
      "1 * 3 = 3\n",
      "1 * 4 = 4\n",
      "1 * 5 = 5\n",
      "2 * 1 = 2\n",
      "2 * 2 = 4\n",
      "2 * 3 = 6\n",
      "2 * 4 = 8\n",
      "2 * 5 = 10\n",
      "3 * 1 = 3\n",
      "3 * 2 = 6\n",
      "3 * 3 = 9\n",
      "3 * 4 = 12\n",
      "3 * 5 = 15\n",
      "4 * 1 = 4\n",
      "4 * 2 = 8\n",
      "4 * 3 = 12\n",
      "4 * 4 = 16\n",
      "4 * 5 = 20\n",
      "5 * 1 = 5\n",
      "5 * 2 = 10\n",
      "5 * 3 = 15\n",
      "5 * 4 = 20\n",
      "5 * 5 = 25\n"
     ]
    }
   ],
   "source": [
    "# Write your code here.\n",
    "def multiTable():\n",
    "    for i in range(1, 6):\n",
    "        for j in range(1, 6):\n",
    "            print(f\"{i} * {j} = {i * j}\", end=\"\\n\")\n",
    "            \n",
    "multiTable()"
   ]
  },
  {
   "cell_type": "markdown",
   "metadata": {
    "id": "26Zzh9AVS3pU"
   },
   "source": [
    "### Q9. Write a list comprehension that generates a list of squares of numbers from 1 to 10.\n"
   ]
  },
  {
   "cell_type": "code",
   "execution_count": 8,
   "metadata": {
    "executionInfo": {
     "elapsed": 1176,
     "status": "ok",
     "timestamp": 1738577589891,
     "user": {
      "displayName": "Sujan Sharma",
      "userId": "04165460406084711982"
     },
     "user_tz": -345
    },
    "id": "1YJIWixjTE7m"
   },
   "outputs": [
    {
     "name": "stdout",
     "output_type": "stream",
     "text": [
      "[1, 4, 9, 16, 25, 36, 49, 64, 81, 100]\n"
     ]
    }
   ],
   "source": [
    "# Write your code here.\n",
    "my_list = [1, 2, 3, 4, 5, 6, 7, 8, 9, 10]\n",
    "squared_list=[x**2 for x in my_list]\n",
    "print(squared_list)\n"
   ]
  },
  {
   "cell_type": "markdown",
   "metadata": {
    "id": "Xco6EoeqS3pU"
   },
   "source": [
    "\n",
    "### Q10. Create a dictionary with at least 5 key-value pairs. Implement a search feature to find a value by its key. Use dictionary comprehension to create a new dictionary with keys and values swapped.\n",
    "\n"
   ]
  },
  {
   "cell_type": "code",
   "execution_count": 2,
   "metadata": {
    "id": "6e9M7AxBS3pU",
    "outputId": "84bc14c0-65dd-4979-ef3e-05d326143e80"
   },
   "outputs": [
    {
     "name": "stdout",
     "output_type": "stream",
     "text": [
      "2\n",
      "Key not found\n",
      "{1: 'apple', 2: 'banana', 3: 'cherry', 4: 'date', 5: 'mango'}\n"
     ]
    }
   ],
   "source": [
    "my_dict = {\n",
    "    'apple': 1,\n",
    "    'banana': 2,\n",
    "    'cherry': 3,\n",
    "    'date': 4,\n",
    "    'mango': 5\n",
    "}\n",
    "\n",
    "def search_dict(key):\n",
    "    value = my_dict.get(key, 'Key not found')  \n",
    "    return value\n",
    "\n",
    "print(search_dict('banana')) \n",
    "print(search_dict('fig'))  \n",
    "\n",
    "\n",
    "swapped_dict = {v: k for k, v in my_dict.items()}  \n",
    "print(swapped_dict)\n"
   ]
  },
  {
   "cell_type": "markdown",
   "metadata": {
    "id": "YzcJSVNPS3pV"
   },
   "source": [
    "### Q11. Create a program, (use conditional statements, functions, list, dictionary, loops,etc) to make a  simple hangman game. ( You can introduce your own ideas, and expand the program )"
   ]
  },
  {
   "cell_type": "code",
   "execution_count": 1,
   "metadata": {
    "id": "2YfNdBvCS3pV"
   },
   "outputs": [
    {
     "name": "stdout",
     "output_type": "stream",
     "text": [
      "Welcome to Hangman!\n",
      "You have to guess the word.\n",
      "\n",
      "Current word:  _ _ _ _ _ _ _ _ _\n",
      "You have 6 incorrect guesses remaining.\n",
      "Please enter a valid single letter.\n",
      "\n",
      "Current word:  _ _ _ _ _ _ _ _ _\n",
      "You have 6 incorrect guesses remaining.\n",
      "Sorry! The letter 'p' is not in the word.\n",
      "\n",
      "Current word:  _ _ _ _ _ _ _ _ _\n",
      "You have 5 incorrect guesses remaining.\n",
      "Good guess! The letter 'h' is in the word.\n",
      "\n",
      "Current word:  _ h _ _ _ _ _ _ _\n",
      "You have 5 incorrect guesses remaining.\n",
      "Good guess! The letter 'c' is in the word.\n",
      "\n",
      "Current word:  c h _ _ _ _ _ _ _\n",
      "You have 5 incorrect guesses remaining.\n",
      "You already guessed that letter.\n",
      "\n",
      "Current word:  c h _ _ _ _ _ _ _\n",
      "You have 5 incorrect guesses remaining.\n",
      "Good guess! The letter 'a' is in the word.\n",
      "\n",
      "Current word:  c h a _ _ _ _ _ _\n",
      "You have 5 incorrect guesses remaining.\n",
      "Good guess! The letter 'l' is in the word.\n",
      "\n",
      "Current word:  c h a l l _ _ _ _\n",
      "You have 5 incorrect guesses remaining.\n",
      "You already guessed that letter.\n",
      "\n",
      "Current word:  c h a l l _ _ _ _\n",
      "You have 5 incorrect guesses remaining.\n",
      "Good guess! The letter 'e' is in the word.\n",
      "\n",
      "Current word:  c h a l l e _ _ e\n",
      "You have 5 incorrect guesses remaining.\n",
      "You already guessed that letter.\n",
      "\n",
      "Current word:  c h a l l e _ _ e\n",
      "You have 5 incorrect guesses remaining.\n",
      "Good guess! The letter 'g' is in the word.\n",
      "\n",
      "Current word:  c h a l l e _ g e\n",
      "You have 5 incorrect guesses remaining.\n",
      "You already guessed that letter.\n",
      "\n",
      "Current word:  c h a l l e _ g e\n",
      "You have 5 incorrect guesses remaining.\n",
      "You already guessed that letter.\n",
      "\n",
      "Current word:  c h a l l e _ g e\n",
      "You have 5 incorrect guesses remaining.\n",
      "You already guessed that letter.\n",
      "\n",
      "Current word:  c h a l l e _ g e\n",
      "You have 5 incorrect guesses remaining.\n",
      "Good guess! The letter 'n' is in the word.\n",
      "\n",
      "Congratulations! You've guessed the word 'challenge' correctly!\n"
     ]
    }
   ],
   "source": [
    "import random\n",
    "\n",
    "word_list = ['python', 'hangman', 'challenge', 'computer', 'programming']\n",
    "\n",
    "def choose_word():\n",
    "    return random.choice(word_list)\n",
    "\n",
    "def display_word(word, guessed_letters):\n",
    "    display = ''\n",
    "    for letter in word:\n",
    "        if letter in guessed_letters:\n",
    "            display += letter + ' '\n",
    "        else:\n",
    "            display += '_ '\n",
    "    return display.strip()\n",
    "\n",
    "\n",
    "def check_win(word, guessed_letters):\n",
    "    for letter in word:\n",
    "        if letter not in guessed_letters:\n",
    "            return False\n",
    "    return True\n",
    "\n",
    "\n",
    "def hangman():\n",
    "    word = choose_word()\n",
    "    guessed_letters = []\n",
    "    incorrect_guesses = 0\n",
    "    max_incorrect_guesses = 6\n",
    "    \n",
    "    print(\"Welcome to Hangman!\")\n",
    "    print(\"You have to guess the word.\")\n",
    "    \n",
    "    while incorrect_guesses < max_incorrect_guesses:\n",
    "        print(\"\\nCurrent word: \", display_word(word, guessed_letters))\n",
    "        \n",
    "        print(f\"You have {max_incorrect_guesses - incorrect_guesses} incorrect guesses remaining.\")\n",
    "        \n",
    "        guess = input(\"Guess a letter: \").lower()\n",
    "        \n",
    "        if len(guess) != 1 or not guess.isalpha():\n",
    "            print(\"Please enter a valid single letter.\")\n",
    "            continue\n",
    "        \n",
    "        if guess in guessed_letters:\n",
    "            print(\"You already guessed that letter.\")\n",
    "            continue\n",
    "        \n",
    "        guessed_letters.append(guess)\n",
    "        \n",
    "        if guess in word:\n",
    "            print(f\"Good guess! The letter '{guess}' is in the word.\")\n",
    "        else:\n",
    "            print(f\"Sorry! The letter '{guess}' is not in the word.\")\n",
    "            incorrect_guesses += 1\n",
    "        \n",
    "        if check_win(word, guessed_letters):\n",
    "            print(f\"\\nCongratulations! You've guessed the word '{word}' correctly!\")\n",
    "            break\n",
    "    \n",
    "    if incorrect_guesses == max_incorrect_guesses:\n",
    "        print(f\"\\nGame Over! You've run out of guesses. The word was '{word}'.\")\n",
    "        \n",
    "if __name__ == '__main__':\n",
    "    hangman()\n"
   ]
  }
 ],
 "metadata": {
  "colab": {
   "provenance": []
  },
  "kernelspec": {
   "display_name": ".myenv",
   "language": "python",
   "name": "python3"
  },
  "language_info": {
   "codemirror_mode": {
    "name": "ipython",
    "version": 3
   },
   "file_extension": ".py",
   "mimetype": "text/x-python",
   "name": "python",
   "nbconvert_exporter": "python",
   "pygments_lexer": "ipython3",
   "version": "3.13.1"
  }
 },
 "nbformat": 4,
 "nbformat_minor": 0
}
